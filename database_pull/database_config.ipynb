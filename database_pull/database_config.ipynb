{
 "cells": [
  {
   "cell_type": "code",
   "execution_count": 5,
   "metadata": {},
   "outputs": [],
   "source": [
    "from sqlalchemy import create_engine, MetaData, Table, Column, Integer, String, DateTime, text, ForeignKey"
   ]
  },
  {
   "cell_type": "markdown",
   "metadata": {},
   "source": [
    "Define the engine"
   ]
  },
  {
   "cell_type": "code",
   "execution_count": 6,
   "metadata": {},
   "outputs": [],
   "source": [
    "db_string = 'sqlite:///../db/youtube.db'\n",
    "\n",
    "# Create a engine\n",
    "engine = create_engine(db_string)"
   ]
  },
  {
   "cell_type": "markdown",
   "metadata": {},
   "source": [
    "Define schema"
   ]
  },
  {
   "cell_type": "code",
   "execution_count": 5,
   "metadata": {},
   "outputs": [],
   "source": [
    "# Create a MetaData object\n",
    "metadata_obj = MetaData()\n",
    "\n",
    "# Define the 'channel' table\n",
    "channel_table = Table(\n",
    "    'channel',\n",
    "    metadata_obj,\n",
    "    Column('channel_id', String, primary_key=True),\n",
    "    Column('channel_name', String),\n",
    "    Column('description', String),\n",
    "    Column('subscriber_count', Integer),\n",
    "    Column('view_count', Integer),\n",
    "    Column('video_count', Integer),\n",
    "    Column('playlist_id', String),\n",
    "    Column('start_date', DateTime),\n",
    "    Column('country', String),\n",
    ")\n",
    "\n",
    "# Define the 'video' table\n",
    "video_table = Table(\n",
    "    'video',\n",
    "    metadata_obj,\n",
    "    Column('channel_id', ForeignKey(\"channel.channel_id\")),\n",
    "    Column('video_id', String, primary_key=True),\n",
    "    Column('video_title', String),\n",
    "    Column('description', String),\n",
    "    Column('tags', String),\n",
    "    Column('published', DateTime),\n",
    "    Column('view_count', Integer),\n",
    "    Column('like_count', Integer),\n",
    "    Column('favourite_count', Integer),\n",
    "    Column('comment_count', Integer),\n",
    "    Column('duration', Integer),\n",
    "    Column('definition', String),\n",
    "    Column('caption', String),\n",
    "    Column('category_id', Integer),\n",
    ")\n",
    "\n",
    "# Define the 'comment' table\n",
    "video_table = Table(\n",
    "    'comment',\n",
    "    metadata_obj,\n",
    "    Column('video_id', ForeignKey(\"video.video_id\")),\n",
    "    Column('comment_id', String, primary_key=True),\n",
    "    Column('body', String),\n",
    "    Column('comment_likes', Integer),\n",
    "    Column('comment_replies', Integer),\n",
    ")"
   ]
  },
  {
   "cell_type": "code",
   "execution_count": 8,
   "metadata": {},
   "outputs": [],
   "source": [
    "# Create all tables in the database\n",
    "metadata_obj.create_all(engine)"
   ]
  },
  {
   "cell_type": "markdown",
   "metadata": {},
   "source": [
    "Create connection"
   ]
  },
  {
   "cell_type": "code",
   "execution_count": 7,
   "metadata": {},
   "outputs": [],
   "source": [
    "# Create connection\n",
    "conn = engine.connect()"
   ]
  },
  {
   "cell_type": "code",
   "execution_count": null,
   "metadata": {},
   "outputs": [],
   "source": [
    "# Close the connection\n",
    "conn.close()\n",
    "engine.dispose()"
   ]
  },
  {
   "attachments": {},
   "cell_type": "markdown",
   "metadata": {},
   "source": [
    "# Create Daily Channel Table"
   ]
  },
  {
   "cell_type": "code",
   "execution_count": 19,
   "metadata": {},
   "outputs": [
    {
     "name": "stdout",
     "output_type": "stream",
     "text": [
      "2024-02-29 08:26:49,415 INFO sqlalchemy.engine.Engine BEGIN (implicit)\n",
      "2024-02-29 08:26:49,416 INFO sqlalchemy.engine.Engine PRAGMA main.table_info(\"channel_daily\")\n",
      "2024-02-29 08:26:49,416 INFO sqlalchemy.engine.Engine [raw sql] ()\n",
      "2024-02-29 08:26:49,417 INFO sqlalchemy.engine.Engine PRAGMA temp.table_info(\"channel_daily\")\n",
      "2024-02-29 08:26:49,418 INFO sqlalchemy.engine.Engine [raw sql] ()\n",
      "2024-02-29 08:26:49,420 INFO sqlalchemy.engine.Engine \n",
      "CREATE TABLE channel_daily (\n",
      "\tchannel_id VARCHAR NOT NULL, \n",
      "\tchannel_name VARCHAR, \n",
      "\tdescription VARCHAR, \n",
      "\tsubscriber_count INTEGER, \n",
      "\tview_count INTEGER, \n",
      "\tvideo_count INTEGER, \n",
      "\tplaylist_id VARCHAR, \n",
      "\tstart_date DATETIME, \n",
      "\tcountry VARCHAR, \n",
      "\tetl_date DATETIME, \n",
      "\tPRIMARY KEY (channel_id)\n",
      ")\n",
      "\n",
      "\n",
      "2024-02-29 08:26:49,420 INFO sqlalchemy.engine.Engine [no key 0.00032s] ()\n",
      "2024-02-29 08:26:49,421 INFO sqlalchemy.engine.Engine COMMIT\n"
     ]
    }
   ],
   "source": [
    "from sqlalchemy import create_engine, MetaData, Table, Column, Integer, String\n",
    "engine = create_engine('sqlite:///../db/youtube.db', echo = True)\n",
    "metadata_obj = MetaData()\n",
    "\n",
    "channel_daily_table = Table(\n",
    "   'channel_daily',\n",
    "   metadata_obj,\n",
    "   Column('channel_id', String, primary_key=True),\n",
    "   Column('channel_name', String),\n",
    "   Column('description', String),\n",
    "   Column('subscriber_count', Integer),\n",
    "   Column('view_count', Integer),\n",
    "   Column('video_count', Integer),\n",
    "   Column('playlist_id', String),\n",
    "   Column('start_date', DateTime),\n",
    "   Column('country', String),\n",
    "   Column('etl_date', DateTime),\n",
    ")\n",
    "metadata_obj.create_all(engine)"
   ]
  }
 ],
 "metadata": {
  "kernelspec": {
   "display_name": "Python 3",
   "language": "python",
   "name": "python3"
  },
  "language_info": {
   "codemirror_mode": {
    "name": "ipython",
    "version": 3
   },
   "file_extension": ".py",
   "mimetype": "text/x-python",
   "name": "python",
   "nbconvert_exporter": "python",
   "pygments_lexer": "ipython3",
   "version": "3.11.1"
  }
 },
 "nbformat": 4,
 "nbformat_minor": 2
}
