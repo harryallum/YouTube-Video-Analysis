{
 "cells": [
  {
   "cell_type": "code",
   "execution_count": 8,
   "metadata": {},
   "outputs": [],
   "source": [
    "import pandas as pd\n",
    "import os\n",
    "from googleapiclient.discovery import build\n",
    "import isodate\n",
    "from sqlalchemy import create_engine,text"
   ]
  },
  {
   "cell_type": "markdown",
   "metadata": {},
   "source": [
    "### YouTube API credentials"
   ]
  },
  {
   "cell_type": "code",
   "execution_count": 9,
   "metadata": {},
   "outputs": [],
   "source": [
    "YOUTUBE_API_KEY = os.getenv(\"YOUTUBE_API_KEY\")"
   ]
  },
  {
   "cell_type": "code",
   "execution_count": 10,
   "metadata": {},
   "outputs": [],
   "source": [
    "api_service_name = \"youtube\"\n",
    "api_version = \"v3\"\n",
    "\n",
    "# Get credentials and create an API client\n",
    "youtube = build(\n",
    "    api_service_name, api_version, developerKey=YOUTUBE_API_KEY)"
   ]
  },
  {
   "cell_type": "markdown",
   "metadata": {},
   "source": [
    "### Import channel IDs from CSV"
   ]
  },
  {
   "cell_type": "code",
   "execution_count": 11,
   "metadata": {},
   "outputs": [],
   "source": [
    "# File path for CSV import\n",
    "csv_file_path = 'channels/channel_ids.csv'\n",
    "\n",
    "# Read channel IDs from CSV file into a list\n",
    "import_channel_df = pd.read_csv(csv_file_path, header=None, names=[\"channel_id\"])"
   ]
  },
  {
   "cell_type": "markdown",
   "metadata": {},
   "source": [
    "Connect to db"
   ]
  },
  {
   "cell_type": "code",
   "execution_count": 50,
   "metadata": {},
   "outputs": [],
   "source": [
    "db_string = 'sqlite:///db/youtube.db'\n",
    "# Create a engine\n",
    "engine = create_engine(db_string)\n",
    "# Create connection\n",
    "conn = engine.connect()"
   ]
  },
  {
   "cell_type": "markdown",
   "metadata": {},
   "source": [
    "Check if channel data already exists for each channel in db"
   ]
  },
  {
   "cell_type": "code",
   "execution_count": 13,
   "metadata": {},
   "outputs": [],
   "source": [
    "# Test database with simple query\n",
    "query = text('SELECT channel_id FROM channel')\n",
    "db_channels_df = pd.read_sql_query(query, conn)"
   ]
  },
  {
   "cell_type": "code",
   "execution_count": 14,
   "metadata": {},
   "outputs": [
    {
     "data": {
      "text/html": [
       "<div>\n",
       "<style scoped>\n",
       "    .dataframe tbody tr th:only-of-type {\n",
       "        vertical-align: middle;\n",
       "    }\n",
       "\n",
       "    .dataframe tbody tr th {\n",
       "        vertical-align: top;\n",
       "    }\n",
       "\n",
       "    .dataframe thead th {\n",
       "        text-align: right;\n",
       "    }\n",
       "</style>\n",
       "<table border=\"1\" class=\"dataframe\">\n",
       "  <thead>\n",
       "    <tr style=\"text-align: right;\">\n",
       "      <th></th>\n",
       "      <th>channel_id</th>\n",
       "    </tr>\n",
       "  </thead>\n",
       "  <tbody>\n",
       "    <tr>\n",
       "      <th>0</th>\n",
       "      <td>UCtYLUTtgS3k1Fg4y5tAhLbw</td>\n",
       "    </tr>\n",
       "    <tr>\n",
       "      <th>1</th>\n",
       "      <td>UC4JX40jDee_tINbkjycV4Sg</td>\n",
       "    </tr>\n",
       "    <tr>\n",
       "      <th>2</th>\n",
       "      <td>UC8butISFwT-Wl7EV0hUK0BQ</td>\n",
       "    </tr>\n",
       "    <tr>\n",
       "      <th>3</th>\n",
       "      <td>UCFbNIlppjAuEX4znoulh0Cw</td>\n",
       "    </tr>\n",
       "    <tr>\n",
       "      <th>4</th>\n",
       "      <td>UC6AVa0vSrCpuskzGDDKz_EQ</td>\n",
       "    </tr>\n",
       "  </tbody>\n",
       "</table>\n",
       "</div>"
      ],
      "text/plain": [
       "                 channel_id\n",
       "0  UCtYLUTtgS3k1Fg4y5tAhLbw\n",
       "1  UC4JX40jDee_tINbkjycV4Sg\n",
       "2  UC8butISFwT-Wl7EV0hUK0BQ\n",
       "3  UCFbNIlppjAuEX4znoulh0Cw\n",
       "4  UC6AVa0vSrCpuskzGDDKz_EQ"
      ]
     },
     "execution_count": 14,
     "metadata": {},
     "output_type": "execute_result"
    }
   ],
   "source": [
    "# Get only channels that don't exist already in the db\n",
    "new_channels_df = import_channel_df[~import_channel_df['channel_id'].isin(db_channels_df['channel_id'])]\n",
    "\n",
    "# Convert new channels to a list to pass to the API\n",
    "channel_ids = new_channels_df['channel_id'].tolist()\n",
    "\n",
    "new_channels_df.head()"
   ]
  },
  {
   "cell_type": "markdown",
   "metadata": {},
   "source": [
    "### Function to return channel details"
   ]
  },
  {
   "cell_type": "code",
   "execution_count": 15,
   "metadata": {},
   "outputs": [],
   "source": [
    "def get_channel_stats(youtube, channel_ids):\n",
    "    all_data = []\n",
    "\n",
    "    try:\n",
    "        # Split channel_ids list into chunks of up to 50 ids each\n",
    "        id_chunks = [channel_ids[i:i+50] for i in range(0, len(channel_ids), 50)]\n",
    "\n",
    "        for id_chunk in id_chunks:\n",
    "            request = youtube.channels().list(\n",
    "                part='snippet,contentDetails,statistics',\n",
    "                id=','.join(id_chunk)\n",
    "            )\n",
    "            response = request.execute()\n",
    "\n",
    "            for item in response.get('items', []):\n",
    "                data = {\n",
    "                    'channel_name': item['snippet']['title'],\n",
    "                    'channel_id': item['id'],\n",
    "                    'description': item['snippet']['description'],\n",
    "                    'subscriber_count': item['statistics']['subscriberCount'],\n",
    "                    'view_count': item['statistics']['viewCount'],\n",
    "                    'video_count': item['statistics']['videoCount'],\n",
    "                    'playlist_id': item['contentDetails']['relatedPlaylists']['uploads'],\n",
    "                    'start_date': item['snippet']['publishedAt'],\n",
    "                    'country': item['snippet'].get('country', None),\n",
    "                }\n",
    "                all_data.append(data)\n",
    "    except Exception as e:\n",
    "        print(f\"Error occurred: {e}\")\n",
    "\n",
    "    return pd.DataFrame(all_data)"
   ]
  },
  {
   "cell_type": "markdown",
   "metadata": {},
   "source": [
    "### Get channel data if there are new channels to process"
   ]
  },
  {
   "cell_type": "code",
   "execution_count": 16,
   "metadata": {},
   "outputs": [],
   "source": [
    "# Check if there are new channels to process\n",
    "if len(new_channels_df) > 0:\n",
    "    # Get channel details\n",
    "    channels_df = get_channel_stats(youtube, channel_ids)"
   ]
  },
  {
   "cell_type": "markdown",
   "metadata": {},
   "source": [
    "### Covert start date to dt format"
   ]
  },
  {
   "cell_type": "code",
   "execution_count": 17,
   "metadata": {},
   "outputs": [],
   "source": [
    "channels_df['start_date'] = pd.to_datetime(channels_df['start_date']).dt.date"
   ]
  },
  {
   "cell_type": "code",
   "execution_count": 19,
   "metadata": {},
   "outputs": [
    {
     "name": "stdout",
     "output_type": "stream",
     "text": [
      "<class 'pandas.core.frame.DataFrame'>\n",
      "RangeIndex: 100 entries, 0 to 99\n",
      "Data columns (total 9 columns):\n",
      " #   Column            Non-Null Count  Dtype \n",
      "---  ------            --------------  ----- \n",
      " 0   channel_name      100 non-null    object\n",
      " 1   channel_id        100 non-null    object\n",
      " 2   description       100 non-null    object\n",
      " 3   subscriber_count  100 non-null    object\n",
      " 4   view_count        100 non-null    object\n",
      " 5   video_count       100 non-null    object\n",
      " 6   playlist_id       100 non-null    object\n",
      " 7   start_date        100 non-null    object\n",
      " 8   country           87 non-null     object\n",
      "dtypes: object(9)\n",
      "memory usage: 7.2+ KB\n"
     ]
    }
   ],
   "source": [
    "channels_df.info()"
   ]
  },
  {
   "cell_type": "code",
   "execution_count": 20,
   "metadata": {},
   "outputs": [
    {
     "data": {
      "text/html": [
       "<div>\n",
       "<style scoped>\n",
       "    .dataframe tbody tr th:only-of-type {\n",
       "        vertical-align: middle;\n",
       "    }\n",
       "\n",
       "    .dataframe tbody tr th {\n",
       "        vertical-align: top;\n",
       "    }\n",
       "\n",
       "    .dataframe thead th {\n",
       "        text-align: right;\n",
       "    }\n",
       "</style>\n",
       "<table border=\"1\" class=\"dataframe\">\n",
       "  <thead>\n",
       "    <tr style=\"text-align: right;\">\n",
       "      <th></th>\n",
       "      <th>channel_name</th>\n",
       "      <th>channel_id</th>\n",
       "      <th>description</th>\n",
       "      <th>subscriber_count</th>\n",
       "      <th>view_count</th>\n",
       "      <th>video_count</th>\n",
       "      <th>playlist_id</th>\n",
       "      <th>start_date</th>\n",
       "      <th>country</th>\n",
       "    </tr>\n",
       "  </thead>\n",
       "  <tbody>\n",
       "  </tbody>\n",
       "</table>\n",
       "</div>"
      ],
      "text/plain": [
       "Empty DataFrame\n",
       "Columns: [channel_name, channel_id, description, subscriber_count, view_count, video_count, playlist_id, start_date, country]\n",
       "Index: []"
      ]
     },
     "execution_count": 20,
     "metadata": {},
     "output_type": "execute_result"
    }
   ],
   "source": [
    "# Check for duplicates\n",
    "channels_df[channels_df['channel_id'].duplicated()]"
   ]
  },
  {
   "cell_type": "markdown",
   "metadata": {},
   "source": [
    "Push channel data to db"
   ]
  },
  {
   "cell_type": "code",
   "execution_count": 21,
   "metadata": {},
   "outputs": [
    {
     "data": {
      "text/plain": [
       "100"
      ]
     },
     "execution_count": 21,
     "metadata": {},
     "output_type": "execute_result"
    }
   ],
   "source": [
    "# Push df to database\n",
    "channels_df.to_sql(\"channel\", engine, if_exists='append', index=False)"
   ]
  },
  {
   "cell_type": "code",
   "execution_count": 22,
   "metadata": {},
   "outputs": [
    {
     "data": {
      "text/html": [
       "<div>\n",
       "<style scoped>\n",
       "    .dataframe tbody tr th:only-of-type {\n",
       "        vertical-align: middle;\n",
       "    }\n",
       "\n",
       "    .dataframe tbody tr th {\n",
       "        vertical-align: top;\n",
       "    }\n",
       "\n",
       "    .dataframe thead th {\n",
       "        text-align: right;\n",
       "    }\n",
       "</style>\n",
       "<table border=\"1\" class=\"dataframe\">\n",
       "  <thead>\n",
       "    <tr style=\"text-align: right;\">\n",
       "      <th></th>\n",
       "      <th>channel_id</th>\n",
       "      <th>channel_name</th>\n",
       "      <th>description</th>\n",
       "      <th>subscriber_count</th>\n",
       "      <th>view_count</th>\n",
       "      <th>video_count</th>\n",
       "      <th>playlist_id</th>\n",
       "      <th>start_date</th>\n",
       "      <th>country</th>\n",
       "    </tr>\n",
       "  </thead>\n",
       "  <tbody>\n",
       "    <tr>\n",
       "      <th>0</th>\n",
       "      <td>UC8butISFwT-Wl7EV0hUK0BQ</td>\n",
       "      <td>freeCodeCamp.org</td>\n",
       "      <td>Learn to code for free.</td>\n",
       "      <td>9040000</td>\n",
       "      <td>661570512</td>\n",
       "      <td>1585</td>\n",
       "      <td>UU8butISFwT-Wl7EV0hUK0BQ</td>\n",
       "      <td>2014-12-16</td>\n",
       "      <td>US</td>\n",
       "    </tr>\n",
       "    <tr>\n",
       "      <th>1</th>\n",
       "      <td>UCEBpSZhI1X8WaP-kY_2LLcg</td>\n",
       "      <td>365 Data Science</td>\n",
       "      <td>At 365 Data Science we make #DataScience acces...</td>\n",
       "      <td>307000</td>\n",
       "      <td>13782817</td>\n",
       "      <td>224</td>\n",
       "      <td>UUEBpSZhI1X8WaP-kY_2LLcg</td>\n",
       "      <td>2017-08-07</td>\n",
       "      <td>BG</td>\n",
       "    </tr>\n",
       "    <tr>\n",
       "      <th>2</th>\n",
       "      <td>UCHXa4OpASJEwrHrLeIzw7Yg</td>\n",
       "      <td>Nicholas Renotte</td>\n",
       "      <td>Sup!\\n\\nWelcome to the channel. So, if you're ...</td>\n",
       "      <td>235000</td>\n",
       "      <td>15263747</td>\n",
       "      <td>304</td>\n",
       "      <td>UUHXa4OpASJEwrHrLeIzw7Yg</td>\n",
       "      <td>2019-01-26</td>\n",
       "      <td>AU</td>\n",
       "    </tr>\n",
       "    <tr>\n",
       "      <th>3</th>\n",
       "      <td>UCDybamfye5An6p-j1t2YMsg</td>\n",
       "      <td>Mo Chen</td>\n",
       "      <td>👋 Hey there, my name is Mo Chen and I work as ...</td>\n",
       "      <td>82100</td>\n",
       "      <td>2658864</td>\n",
       "      <td>88</td>\n",
       "      <td>UUDybamfye5An6p-j1t2YMsg</td>\n",
       "      <td>2022-12-25</td>\n",
       "      <td>GB</td>\n",
       "    </tr>\n",
       "    <tr>\n",
       "      <th>4</th>\n",
       "      <td>UCkRFwipiIqBTakN-mkZ-GcQ</td>\n",
       "      <td>Ayush Singh</td>\n",
       "      <td></td>\n",
       "      <td>70200</td>\n",
       "      <td>2075280</td>\n",
       "      <td>24</td>\n",
       "      <td>UUkRFwipiIqBTakN-mkZ-GcQ</td>\n",
       "      <td>2022-06-25</td>\n",
       "      <td>IN</td>\n",
       "    </tr>\n",
       "  </tbody>\n",
       "</table>\n",
       "</div>"
      ],
      "text/plain": [
       "                 channel_id      channel_name  \\\n",
       "0  UC8butISFwT-Wl7EV0hUK0BQ  freeCodeCamp.org   \n",
       "1  UCEBpSZhI1X8WaP-kY_2LLcg  365 Data Science   \n",
       "2  UCHXa4OpASJEwrHrLeIzw7Yg  Nicholas Renotte   \n",
       "3  UCDybamfye5An6p-j1t2YMsg           Mo Chen   \n",
       "4  UCkRFwipiIqBTakN-mkZ-GcQ       Ayush Singh   \n",
       "\n",
       "                                         description  subscriber_count  \\\n",
       "0                            Learn to code for free.           9040000   \n",
       "1  At 365 Data Science we make #DataScience acces...            307000   \n",
       "2  Sup!\\n\\nWelcome to the channel. So, if you're ...            235000   \n",
       "3  👋 Hey there, my name is Mo Chen and I work as ...             82100   \n",
       "4                                                                70200   \n",
       "\n",
       "   view_count  video_count               playlist_id  start_date country  \n",
       "0   661570512         1585  UU8butISFwT-Wl7EV0hUK0BQ  2014-12-16      US  \n",
       "1    13782817          224  UUEBpSZhI1X8WaP-kY_2LLcg  2017-08-07      BG  \n",
       "2    15263747          304  UUHXa4OpASJEwrHrLeIzw7Yg  2019-01-26      AU  \n",
       "3     2658864           88  UUDybamfye5An6p-j1t2YMsg  2022-12-25      GB  \n",
       "4     2075280           24  UUkRFwipiIqBTakN-mkZ-GcQ  2022-06-25      IN  "
      ]
     },
     "execution_count": 22,
     "metadata": {},
     "output_type": "execute_result"
    }
   ],
   "source": [
    "# Test database with simple query\n",
    "query = text('SELECT * FROM channel')\n",
    "test_df = pd.read_sql_query(query, conn)\n",
    "test_df.head()"
   ]
  },
  {
   "cell_type": "markdown",
   "metadata": {},
   "source": [
    "### Get all video ids from a channel"
   ]
  },
  {
   "cell_type": "code",
   "execution_count": 23,
   "metadata": {},
   "outputs": [],
   "source": [
    "def get_video_ids(youtube, playlist_id):\n",
    "\n",
    "    video_ids = []\n",
    "\n",
    "    try:\n",
    "        # Initial request for the first page of videos\n",
    "        request = youtube.playlistItems().list(\n",
    "            part='contentDetails',\n",
    "            playlistId=playlist_id,\n",
    "            maxResults=50\n",
    "        )\n",
    "        response = request.execute()\n",
    "\n",
    "        # Extract video IDs from the first page of response\n",
    "        for item in response.get('items', []):\n",
    "            video_ids.append(item['contentDetails']['videoId'])\n",
    "\n",
    "        # Fetch additional pages of videos, if available\n",
    "        while 'nextPageToken' in response:\n",
    "            request = youtube.playlistItems().list(\n",
    "                part='contentDetails',\n",
    "                playlistId=playlist_id,\n",
    "                maxResults=50,\n",
    "                pageToken=response['nextPageToken']\n",
    "            )\n",
    "            response = request.execute()\n",
    "\n",
    "            # Extract video IDs from the current page of response\n",
    "            for item in response.get('items', []):\n",
    "                video_ids.append(item['contentDetails']['videoId'])\n",
    "    except Exception as e:\n",
    "        print(f\"Error occurred: {e}\")\n",
    "\n",
    "    return video_ids"
   ]
  },
  {
   "cell_type": "markdown",
   "metadata": {},
   "source": [
    "### Get video details for video IDs"
   ]
  },
  {
   "cell_type": "code",
   "execution_count": 24,
   "metadata": {},
   "outputs": [],
   "source": [
    "def get_video_details(youtube, video_ids):\n",
    "\n",
    "    all_video_info = []\n",
    "\n",
    "    try:\n",
    "        # Split video_ids list into chunks of up to 50 IDs each\n",
    "        id_chunks = [video_ids[i:i+50] for i in range(0, len(video_ids), 50)]\n",
    "\n",
    "        for id_chunk in id_chunks:\n",
    "            request = youtube.videos().list(\n",
    "                part=\"snippet,contentDetails,statistics\",\n",
    "                id=','.join(id_chunk)\n",
    "            )\n",
    "            response = request.execute()\n",
    "\n",
    "            for video in response.get('items', []):\n",
    "                video_info = {\n",
    "                    'channel_id': video['snippet']['channelId'],\n",
    "                    'video_id': video['id'],\n",
    "                    'video_title': video['snippet']['title'],\n",
    "                    'description': video['snippet']['description'],\n",
    "                    'tags': video['snippet'].get('tags', []),\n",
    "                    'published': video['snippet']['publishedAt'],\n",
    "                    'view_count': video['statistics'].get('viewCount', None),\n",
    "                    'like_count': video['statistics'].get('likeCount', None),\n",
    "                    'favourite_count': video['statistics'].get('favoriteCount', None),\n",
    "                    'comment_count': video['statistics'].get('commentCount', None),\n",
    "                    'duration': video['contentDetails'].get('duration', None),\n",
    "                    'definition': video['contentDetails'].get('definition', None),\n",
    "                    'caption': video['contentDetails'].get('caption', None),\n",
    "                    'category_id': video['snippet'].get('categoryId', None),\n",
    "                }\n",
    "                all_video_info.append(video_info)\n",
    "    except Exception as e:\n",
    "        print(f\"Error occurred: {e}\")\n",
    "\n",
    "    return pd.DataFrame(all_video_info)\n"
   ]
  },
  {
   "cell_type": "markdown",
   "metadata": {},
   "source": [
    "### Get video data for each channel"
   ]
  },
  {
   "cell_type": "code",
   "execution_count": 25,
   "metadata": {},
   "outputs": [
    {
     "name": "stdout",
     "output_type": "stream",
     "text": [
      "1586 videos found for channel ID: freeCodeCamp.org\n",
      "224 videos found for channel ID: 365 Data Science\n",
      "305 videos found for channel ID: Nicholas Renotte\n",
      "88 videos found for channel ID: Mo Chen\n",
      "24 videos found for channel ID: Ayush Singh\n",
      "9 videos found for channel ID: Yosh\n",
      "145 videos found for channel ID: Rob Mulla\n",
      "183 videos found for channel ID: Programming with Mosh\n",
      "198 videos found for channel ID: UVA School of Data Science\n",
      "126 videos found for channel ID: Sundas Khalid\n",
      "233 videos found for channel ID: Corey Schafer\n",
      "161 videos found for channel ID: YUNIKARN\n",
      "282 videos found for channel ID: Alex The Analyst\n",
      "83 videos found for channel ID: zedstatistics\n",
      "803 videos found for channel ID: codebasics\n",
      "134 videos found for channel ID: Internet Made Coder\n",
      "38 videos found for channel ID: Egor Howell\n",
      "673 videos found for channel ID: Web Dev Simplified\n",
      "202 videos found for channel ID: Machine Learning Street Talk\n",
      "7172 videos found for channel ID: Simplilearn\n",
      "98 videos found for channel ID: Joma Tech\n",
      "54 videos found for channel ID: Data Nash\n",
      "58 videos found for channel ID: Boris Meinardus\n",
      "267 videos found for channel ID: StatQuest with Josh Starmer\n",
      "65 videos found for channel ID: Exaltitude\n",
      "257 videos found for channel ID: MarinStatsLectures-R Programming & Statistics\n",
      "56 videos found for channel ID: Annamonova\n",
      "695 videos found for channel ID: NeuralNine\n",
      "161 videos found for channel ID: Machine Learning with Phil\n",
      "102 videos found for channel ID: techTFQ\n",
      "32 videos found for channel ID: AI Jason\n",
      "8 videos found for channel ID: AI Warehouse\n",
      "15 videos found for channel ID: AstroSam\n",
      "240 videos found for channel ID: Jay Feng\n",
      "186 videos found for channel ID: Tina Huang\n",
      "475 videos found for channel ID: ritvikmath\n",
      "81 videos found for channel ID: Thu Vu data analytics\n",
      "82 videos found for channel ID: Keith Galli\n",
      "286 videos found for channel ID: Ken Jee\n",
      "116 videos found for channel ID: candidly vivian\n",
      "153 videos found for channel ID: Steve (Builder.io)\n",
      "603 videos found for channel ID: Fireship\n",
      "31 videos found for channel ID: Agatha\n",
      "208 videos found for channel ID: Python Programmer\n",
      "49 videos found for channel ID: Dataquest\n",
      "62 videos found for channel ID: Dave Ebbelaar\n",
      "964 videos found for channel ID: Tech With Tim\n",
      "281 videos found for channel ID: Sebastian Lague\n",
      "154 videos found for channel ID: Luke Barousse\n",
      "73 videos found for channel ID: Learn with Lukas\n",
      "195 videos found for channel ID: Rohan Adus\n",
      "106 videos found for channel ID: CS Dojo\n",
      "850 videos found for channel ID: Analytics Vidhya\n",
      "806 videos found for channel ID: Computerphile\n",
      "721 videos found for channel ID: ProjectPro - Data Science Projects\n",
      "125 videos found for channel ID: Daniel Dan | Tech & Data\n",
      "1242 videos found for channel ID: DesignCourse\n",
      "72 videos found for channel ID: The PyCoach\n",
      "243 videos found for channel ID: developedbyed\n",
      "59 videos found for channel ID: Code Bullet\n",
      "819 videos found for channel ID: Syntax\n",
      "80 videos found for channel ID: The Builder\n",
      "303 videos found for channel ID: Daniel Bourke\n",
      "870 videos found for channel ID: BEPEC by Kanth - #BuildExperience & Get Hired!\n",
      "636 videos found for channel ID: Greg Hogg\n",
      "2302 videos found for channel ID: Net Ninja\n",
      "10 videos found for channel ID: b2studios\n",
      "1211 videos found for channel ID: The Coding Train\n",
      "172 videos found for channel ID: 3Blue1Brown\n",
      "197 videos found for channel ID: Aditi Gupta\n",
      "114 videos found for channel ID: PythonDude\n",
      "83 videos found for channel ID: ZuzeloApps\n",
      "143 videos found for channel ID: Darshil Parmar\n",
      "1031 videos found for channel ID: CampusX\n",
      "178 videos found for channel ID: Charming Data\n",
      "8 videos found for channel ID: Samuel Arzt\n",
      "805 videos found for channel ID: Apna College\n",
      "143 videos found for channel ID: Mısra Turp\n",
      "23 videos found for channel ID: vcubingx\n",
      "64 videos found for channel ID: pixegami\n",
      "804 videos found for channel ID: Clever Programmer\n",
      "967 videos found for channel ID: Traversy Media\n",
      "273 videos found for channel ID: Fun Fun Function\n",
      "805 videos found for channel ID: Hussein Nasser\n",
      "1579 videos found for channel ID: DataCamp\n",
      "2301 videos found for channel ID: CodeWithHarry\n",
      "147 videos found for channel ID: CGP Grey\n",
      "1233 videos found for channel ID: Derek Banas\n",
      "22 videos found for channel ID: Reducible\n",
      "421 videos found for channel ID: TechLead\n",
      "1076 videos found for channel ID: Super Data Science: ML & AI Podcast with Jon Krohn\n",
      "502 videos found for channel ID: Coding with Lewis\n",
      "85 videos found for channel ID: Rishabh Mishra\n",
      "1251 videos found for channel ID: sentdex\n",
      "143 videos found for channel ID: Python Simplified\n",
      "134 videos found for channel ID: Sahil & Sarra\n",
      "693 videos found for channel ID: Academind\n",
      "82 videos found for channel ID: The Almost Astrophysicist\n",
      "52 videos found for channel ID: Clear Code\n",
      "30 videos found for channel ID: Emergent Garden\n"
     ]
    }
   ],
   "source": [
    "videos_df = pd.DataFrame()\n",
    "\n",
    "for channel in channels_df['channel_name']:\n",
    "    # Get playlist id for channel\n",
    "    playlist_id = channels_df.loc[channels_df['channel_name'] == channel, 'playlist_id'].iloc[0]\n",
    "    # Get all video ids for channel\n",
    "    video_ids = get_video_ids(youtube, playlist_id)\n",
    "    num_of_videos = len(video_ids)\n",
    "    print(f\"{num_of_videos} videos found for channel: {channel}\")\n",
    "\n",
    "    # Get video data for each video\n",
    "    video_data = get_video_details(youtube, video_ids)\n",
    "\n",
    "    # Concat to main df\n",
    "    videos_df = pd.concat([videos_df, video_data], ignore_index=True)"
   ]
  },
  {
   "cell_type": "markdown",
   "metadata": {},
   "source": [
    "### Convert dates to dt"
   ]
  },
  {
   "cell_type": "code",
   "execution_count": 41,
   "metadata": {},
   "outputs": [],
   "source": [
    "videos_df['published'] = pd.to_datetime(videos_df['published'])"
   ]
  },
  {
   "cell_type": "markdown",
   "metadata": {},
   "source": [
    "### Covert duration to seconds using ISODATE"
   ]
  },
  {
   "cell_type": "code",
   "execution_count": 42,
   "metadata": {},
   "outputs": [],
   "source": [
    "def duration_to_seconds(duration_str):\n",
    "    duration = isodate.parse_duration(duration_str)\n",
    "    total_seconds = duration.total_seconds()\n",
    "    return int(total_seconds)"
   ]
  },
  {
   "cell_type": "code",
   "execution_count": null,
   "metadata": {},
   "outputs": [],
   "source": [
    "videos_df['duration'] = videos_df['duration'].apply(duration_to_seconds)"
   ]
  },
  {
   "cell_type": "markdown",
   "metadata": {},
   "source": [
    "### Convert tag list to string"
   ]
  },
  {
   "cell_type": "code",
   "execution_count": 45,
   "metadata": {},
   "outputs": [],
   "source": [
    "videos_df['tags'] = videos_df['tags'].apply(', '.join)"
   ]
  },
  {
   "cell_type": "code",
   "execution_count": 46,
   "metadata": {},
   "outputs": [
    {
     "data": {
      "text/html": [
       "<div>\n",
       "<style scoped>\n",
       "    .dataframe tbody tr th:only-of-type {\n",
       "        vertical-align: middle;\n",
       "    }\n",
       "\n",
       "    .dataframe tbody tr th {\n",
       "        vertical-align: top;\n",
       "    }\n",
       "\n",
       "    .dataframe thead th {\n",
       "        text-align: right;\n",
       "    }\n",
       "</style>\n",
       "<table border=\"1\" class=\"dataframe\">\n",
       "  <thead>\n",
       "    <tr style=\"text-align: right;\">\n",
       "      <th></th>\n",
       "      <th>channel_id</th>\n",
       "      <th>video_id</th>\n",
       "      <th>video_title</th>\n",
       "      <th>description</th>\n",
       "      <th>tags</th>\n",
       "      <th>published</th>\n",
       "      <th>view_count</th>\n",
       "      <th>like_count</th>\n",
       "      <th>favourite_count</th>\n",
       "      <th>comment_count</th>\n",
       "      <th>duration</th>\n",
       "      <th>definition</th>\n",
       "      <th>caption</th>\n",
       "      <th>category_id</th>\n",
       "    </tr>\n",
       "  </thead>\n",
       "  <tbody>\n",
       "    <tr>\n",
       "      <th>44787</th>\n",
       "      <td>UCwBhBDsqiQflTMLy2epbQVw</td>\n",
       "      <td>RO9rfa8-vwo</td>\n",
       "      <td>Life Engine Update (now with graphs! 📈)</td>\n",
       "      <td>Create your own life in the Life Engine: https...</td>\n",
       "      <td></td>\n",
       "      <td>2021-02-19 22:00:16+00:00</td>\n",
       "      <td>16563</td>\n",
       "      <td>588</td>\n",
       "      <td>0</td>\n",
       "      <td>25</td>\n",
       "      <td>475</td>\n",
       "      <td>hd</td>\n",
       "      <td>false</td>\n",
       "      <td>28</td>\n",
       "    </tr>\n",
       "    <tr>\n",
       "      <th>44788</th>\n",
       "      <td>UCwBhBDsqiQflTMLy2epbQVw</td>\n",
       "      <td>HpgXTphPCP0</td>\n",
       "      <td>Bugs are Features in Evolution [The Life Engine]</td>\n",
       "      <td>Play the Life Engine: https://thelifeengine.ne...</td>\n",
       "      <td></td>\n",
       "      <td>2021-02-05 21:55:05+00:00</td>\n",
       "      <td>54992</td>\n",
       "      <td>1268</td>\n",
       "      <td>0</td>\n",
       "      <td>60</td>\n",
       "      <td>982</td>\n",
       "      <td>hd</td>\n",
       "      <td>false</td>\n",
       "      <td>28</td>\n",
       "    </tr>\n",
       "    <tr>\n",
       "      <th>44789</th>\n",
       "      <td>UCwBhBDsqiQflTMLy2epbQVw</td>\n",
       "      <td>uGkkm023BSs</td>\n",
       "      <td>Building a Zoo with Evolution [The Life Engine]</td>\n",
       "      <td>Here I demonstrate a very different path of ev...</td>\n",
       "      <td></td>\n",
       "      <td>2021-01-29 21:40:38+00:00</td>\n",
       "      <td>83000</td>\n",
       "      <td>2303</td>\n",
       "      <td>0</td>\n",
       "      <td>74</td>\n",
       "      <td>912</td>\n",
       "      <td>hd</td>\n",
       "      <td>false</td>\n",
       "      <td>28</td>\n",
       "    </tr>\n",
       "    <tr>\n",
       "      <th>44790</th>\n",
       "      <td>UCwBhBDsqiQflTMLy2epbQVw</td>\n",
       "      <td>WJyHaPFwFSQ</td>\n",
       "      <td>Evolution of Eyes and Brains [The Life Engine]</td>\n",
       "      <td>Play the Life Engine here: https://thelifeengi...</td>\n",
       "      <td></td>\n",
       "      <td>2020-08-28 15:04:14+00:00</td>\n",
       "      <td>103449</td>\n",
       "      <td>3886</td>\n",
       "      <td>0</td>\n",
       "      <td>141</td>\n",
       "      <td>810</td>\n",
       "      <td>hd</td>\n",
       "      <td>false</td>\n",
       "      <td>28</td>\n",
       "    </tr>\n",
       "    <tr>\n",
       "      <th>44791</th>\n",
       "      <td>UCwBhBDsqiQflTMLy2epbQVw</td>\n",
       "      <td>4XEklaH9k6k</td>\n",
       "      <td>Evolution Simulator [The Life Engine]</td>\n",
       "      <td>In this video I introduce the Life Engine, an ...</td>\n",
       "      <td>E, v, o, l, u, t, i, o, n,  , s, i, m, u, l, a...</td>\n",
       "      <td>2020-08-07 22:21:22+00:00</td>\n",
       "      <td>194728</td>\n",
       "      <td>6481</td>\n",
       "      <td>0</td>\n",
       "      <td>299</td>\n",
       "      <td>3048</td>\n",
       "      <td>hd</td>\n",
       "      <td>false</td>\n",
       "      <td>28</td>\n",
       "    </tr>\n",
       "  </tbody>\n",
       "</table>\n",
       "</div>"
      ],
      "text/plain": [
       "                     channel_id     video_id  \\\n",
       "44787  UCwBhBDsqiQflTMLy2epbQVw  RO9rfa8-vwo   \n",
       "44788  UCwBhBDsqiQflTMLy2epbQVw  HpgXTphPCP0   \n",
       "44789  UCwBhBDsqiQflTMLy2epbQVw  uGkkm023BSs   \n",
       "44790  UCwBhBDsqiQflTMLy2epbQVw  WJyHaPFwFSQ   \n",
       "44791  UCwBhBDsqiQflTMLy2epbQVw  4XEklaH9k6k   \n",
       "\n",
       "                                            video_title  \\\n",
       "44787           Life Engine Update (now with graphs! 📈)   \n",
       "44788  Bugs are Features in Evolution [The Life Engine]   \n",
       "44789   Building a Zoo with Evolution [The Life Engine]   \n",
       "44790    Evolution of Eyes and Brains [The Life Engine]   \n",
       "44791             Evolution Simulator [The Life Engine]   \n",
       "\n",
       "                                             description  \\\n",
       "44787  Create your own life in the Life Engine: https...   \n",
       "44788  Play the Life Engine: https://thelifeengine.ne...   \n",
       "44789  Here I demonstrate a very different path of ev...   \n",
       "44790  Play the Life Engine here: https://thelifeengi...   \n",
       "44791  In this video I introduce the Life Engine, an ...   \n",
       "\n",
       "                                                    tags  \\\n",
       "44787                                                      \n",
       "44788                                                      \n",
       "44789                                                      \n",
       "44790                                                      \n",
       "44791  E, v, o, l, u, t, i, o, n,  , s, i, m, u, l, a...   \n",
       "\n",
       "                      published view_count like_count favourite_count  \\\n",
       "44787 2021-02-19 22:00:16+00:00      16563        588               0   \n",
       "44788 2021-02-05 21:55:05+00:00      54992       1268               0   \n",
       "44789 2021-01-29 21:40:38+00:00      83000       2303               0   \n",
       "44790 2020-08-28 15:04:14+00:00     103449       3886               0   \n",
       "44791 2020-08-07 22:21:22+00:00     194728       6481               0   \n",
       "\n",
       "      comment_count  duration definition caption category_id  \n",
       "44787            25       475         hd   false          28  \n",
       "44788            60       982         hd   false          28  \n",
       "44789            74       912         hd   false          28  \n",
       "44790           141       810         hd   false          28  \n",
       "44791           299      3048         hd   false          28  "
      ]
     },
     "execution_count": 46,
     "metadata": {},
     "output_type": "execute_result"
    }
   ],
   "source": [
    "videos_df.tail()"
   ]
  },
  {
   "cell_type": "markdown",
   "metadata": {},
   "source": [
    "### Export video df to database"
   ]
  },
  {
   "cell_type": "code",
   "execution_count": null,
   "metadata": {},
   "outputs": [],
   "source": [
    "# Push df to database\n",
    "videos_df.to_sql(name=\"video\", con=engine, if_exists='append', index=False)"
   ]
  },
  {
   "cell_type": "code",
   "execution_count": 53,
   "metadata": {},
   "outputs": [
    {
     "name": "stdout",
     "output_type": "stream",
     "text": [
      "<class 'pandas.core.frame.DataFrame'>\n",
      "RangeIndex: 44792 entries, 0 to 44791\n",
      "Data columns (total 14 columns):\n",
      " #   Column           Non-Null Count  Dtype  \n",
      "---  ------           --------------  -----  \n",
      " 0   channel_id       44792 non-null  object \n",
      " 1   video_id         44792 non-null  object \n",
      " 2   video_title      44792 non-null  object \n",
      " 3   description      44792 non-null  object \n",
      " 4   tags             44792 non-null  object \n",
      " 5   published        44792 non-null  object \n",
      " 6   view_count       44788 non-null  float64\n",
      " 7   like_count       44624 non-null  float64\n",
      " 8   favourite_count  44792 non-null  int64  \n",
      " 9   comment_count    44700 non-null  float64\n",
      " 10  duration         44792 non-null  int64  \n",
      " 11  definition       44792 non-null  object \n",
      " 12  caption          44792 non-null  object \n",
      " 13  category_id      44792 non-null  int64  \n",
      "dtypes: float64(3), int64(3), object(8)\n",
      "memory usage: 4.8+ MB\n"
     ]
    }
   ],
   "source": [
    "# Test database with simple query\n",
    "query = text(\"SELECT * FROM video\")\n",
    "test_df = pd.read_sql_query(query, conn)\n",
    "test_df.info()"
   ]
  },
  {
   "cell_type": "markdown",
   "metadata": {},
   "source": [
    "### Get comment for each video"
   ]
  },
  {
   "cell_type": "code",
   "execution_count": null,
   "metadata": {},
   "outputs": [],
   "source": [
    "def get_comments_by_video_ids(youtube, video_ids):\n",
    "\n",
    "    all_comments = []\n",
    "    \n",
    "    for id in video_ids[:5]: # limit to 5 videos for testing\n",
    "        try:   \n",
    "            request = youtube.commentThreads().list(\n",
    "                part=\"snippet,replies\",\n",
    "                videoId=id,\n",
    "                maxResults=100,\n",
    "                order=\"relevance\",\n",
    "            )\n",
    "            response = request.execute()\n",
    "\n",
    "            for comment in response.get('items', []):\n",
    "                comment_data = {\n",
    "                    'video_id': comment['snippet']['videoId'],\n",
    "                    'comment_id': comment['snippet']['topLevelComment']['id'],\n",
    "                    'body': comment['snippet']['topLevelComment']['snippet']['textOriginal'],\n",
    "                    'comment_likes': comment['snippet']['topLevelComment']['snippet']['likeCount'],\n",
    "                    'comment_replies': comment['snippet']['totalReplyCount']\n",
    "                }\n",
    "\n",
    "                all_comments.append(comment_data)\n",
    "            \n",
    "        except: \n",
    "            # Handle if there are no comments for video\n",
    "            print(f'Failed to get comments for video id: {id}')\n",
    "\n",
    "    #return response    \n",
    "    return pd.DataFrame(all_comments)"
   ]
  },
  {
   "cell_type": "code",
   "execution_count": null,
   "metadata": {},
   "outputs": [],
   "source": [
    "# Convert video_ids column to a list to pass to the API\n",
    "video_ids = videos_df['video_id'].tolist()\n",
    "\n",
    "comments_df = get_comments_by_video_ids(youtube, video_ids)"
   ]
  },
  {
   "cell_type": "code",
   "execution_count": null,
   "metadata": {},
   "outputs": [
    {
     "data": {
      "text/html": [
       "<div>\n",
       "<style scoped>\n",
       "    .dataframe tbody tr th:only-of-type {\n",
       "        vertical-align: middle;\n",
       "    }\n",
       "\n",
       "    .dataframe tbody tr th {\n",
       "        vertical-align: top;\n",
       "    }\n",
       "\n",
       "    .dataframe thead th {\n",
       "        text-align: right;\n",
       "    }\n",
       "</style>\n",
       "<table border=\"1\" class=\"dataframe\">\n",
       "  <thead>\n",
       "    <tr style=\"text-align: right;\">\n",
       "      <th></th>\n",
       "      <th>video_id</th>\n",
       "      <th>comment_id</th>\n",
       "      <th>body</th>\n",
       "      <th>comment_likes</th>\n",
       "      <th>comment_replies</th>\n",
       "    </tr>\n",
       "  </thead>\n",
       "  <tbody>\n",
       "    <tr>\n",
       "      <th>0</th>\n",
       "      <td>YdWkUdMxMvM</td>\n",
       "      <td>UgyJJ1jV6CQzwJpKJcB4AaABAg</td>\n",
       "      <td>I've been trying to change to a Coding career,...</td>\n",
       "      <td>6</td>\n",
       "      <td>3</td>\n",
       "    </tr>\n",
       "    <tr>\n",
       "      <th>1</th>\n",
       "      <td>YdWkUdMxMvM</td>\n",
       "      <td>UgyTupQVEMxwqAN7mSh4AaABAg</td>\n",
       "      <td>This code camp toughens the competition. Stop ...</td>\n",
       "      <td>6</td>\n",
       "      <td>1</td>\n",
       "    </tr>\n",
       "    <tr>\n",
       "      <th>2</th>\n",
       "      <td>YdWkUdMxMvM</td>\n",
       "      <td>UgwGXdzPdCPVpCe-vFx4AaABAg</td>\n",
       "      <td>Great video 👍</td>\n",
       "      <td>0</td>\n",
       "      <td>0</td>\n",
       "    </tr>\n",
       "    <tr>\n",
       "      <th>3</th>\n",
       "      <td>YdWkUdMxMvM</td>\n",
       "      <td>UgxnPUv4Fr-7PyLUWwp4AaABAg</td>\n",
       "      <td>on point</td>\n",
       "      <td>0</td>\n",
       "      <td>0</td>\n",
       "    </tr>\n",
       "    <tr>\n",
       "      <th>4</th>\n",
       "      <td>YdWkUdMxMvM</td>\n",
       "      <td>Ugy9oMMo28xQwVFQHwd4AaABAg</td>\n",
       "      <td>Thanks</td>\n",
       "      <td>0</td>\n",
       "      <td>0</td>\n",
       "    </tr>\n",
       "  </tbody>\n",
       "</table>\n",
       "</div>"
      ],
      "text/plain": [
       "      video_id                  comment_id  \\\n",
       "0  YdWkUdMxMvM  UgyJJ1jV6CQzwJpKJcB4AaABAg   \n",
       "1  YdWkUdMxMvM  UgyTupQVEMxwqAN7mSh4AaABAg   \n",
       "2  YdWkUdMxMvM  UgwGXdzPdCPVpCe-vFx4AaABAg   \n",
       "3  YdWkUdMxMvM  UgxnPUv4Fr-7PyLUWwp4AaABAg   \n",
       "4  YdWkUdMxMvM  Ugy9oMMo28xQwVFQHwd4AaABAg   \n",
       "\n",
       "                                                body  comment_likes  \\\n",
       "0  I've been trying to change to a Coding career,...              6   \n",
       "1  This code camp toughens the competition. Stop ...              6   \n",
       "2                                      Great video 👍              0   \n",
       "3                                           on point              0   \n",
       "4                                             Thanks              0   \n",
       "\n",
       "   comment_replies  \n",
       "0                3  \n",
       "1                1  \n",
       "2                0  \n",
       "3                0  \n",
       "4                0  "
      ]
     },
     "execution_count": 35,
     "metadata": {},
     "output_type": "execute_result"
    }
   ],
   "source": [
    "comments_df.head()"
   ]
  },
  {
   "cell_type": "code",
   "execution_count": null,
   "metadata": {},
   "outputs": [
    {
     "data": {
      "text/plain": [
       "217"
      ]
     },
     "execution_count": 36,
     "metadata": {},
     "output_type": "execute_result"
    }
   ],
   "source": [
    "# Push df to database\n",
    "comments_df.to_sql(name=\"comment\", con=engine, if_exists='append', index=False)"
   ]
  },
  {
   "cell_type": "code",
   "execution_count": null,
   "metadata": {},
   "outputs": [],
   "source": [
    "# Close the connection\n",
    "conn.close()\n",
    "engine.dispose()"
   ]
  },
  {
   "cell_type": "code",
   "execution_count": null,
   "metadata": {},
   "outputs": [],
   "source": []
  }
 ],
 "metadata": {
  "kernelspec": {
   "display_name": "Python 3",
   "language": "python",
   "name": "python3"
  },
  "language_info": {
   "codemirror_mode": {
    "name": "ipython",
    "version": 3
   },
   "file_extension": ".py",
   "mimetype": "text/x-python",
   "name": "python",
   "nbconvert_exporter": "python",
   "pygments_lexer": "ipython3",
   "version": "3.11.0"
  }
 },
 "nbformat": 4,
 "nbformat_minor": 2
}
