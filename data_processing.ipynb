{
 "cells": [
  {
   "cell_type": "code",
   "execution_count": 1,
   "metadata": {},
   "outputs": [],
   "source": [
    "import pandas as pd\n",
    "import os\n",
    "from googleapiclient.discovery import build\n",
    "import isodate\n",
    "from sqlalchemy import create_engine,text"
   ]
  },
  {
   "cell_type": "markdown",
   "metadata": {},
   "source": [
    "### YouTube API credentials"
   ]
  },
  {
   "cell_type": "code",
   "execution_count": 2,
   "metadata": {},
   "outputs": [],
   "source": [
    "YOUTUBE_API_KEY = os.getenv(\"YOUTUBE_API_KEY\")"
   ]
  },
  {
   "cell_type": "code",
   "execution_count": 3,
   "metadata": {},
   "outputs": [],
   "source": [
    "api_service_name = \"youtube\"\n",
    "api_version = \"v3\"\n",
    "\n",
    "# Get credentials and create an API client\n",
    "youtube = build(\n",
    "    api_service_name, api_version, developerKey=YOUTUBE_API_KEY)"
   ]
  },
  {
   "cell_type": "markdown",
   "metadata": {},
   "source": [
    "### Import channel IDs from CSV"
   ]
  },
  {
   "cell_type": "code",
   "execution_count": 4,
   "metadata": {},
   "outputs": [],
   "source": [
    "# File path for CSV import\n",
    "csv_file_path = 'channels/channel_ids.csv'\n",
    "\n",
    "# Read channel IDs from CSV file into a list\n",
    "import_channel_df = pd.read_csv(csv_file_path, header=None, names=[\"channel_id\"])"
   ]
  },
  {
   "cell_type": "markdown",
   "metadata": {},
   "source": [
    "Connect to db"
   ]
  },
  {
   "cell_type": "code",
   "execution_count": 5,
   "metadata": {},
   "outputs": [],
   "source": [
    "db_string = 'sqlite:///db/youtube.db'\n",
    "# Create a engine\n",
    "engine = create_engine(db_string)\n",
    "# Create connection\n",
    "conn = engine.connect()"
   ]
  },
  {
   "cell_type": "markdown",
   "metadata": {},
   "source": [
    "Check if channel data already exists for each channel in db"
   ]
  },
  {
   "cell_type": "code",
   "execution_count": 6,
   "metadata": {},
   "outputs": [],
   "source": [
    "# Test database with simple query\n",
    "query = text('SELECT channel_id FROM channel')\n",
    "db_channels_df = pd.read_sql_query(query, conn)"
   ]
  },
  {
   "cell_type": "code",
   "execution_count": 7,
   "metadata": {},
   "outputs": [
    {
     "data": {
      "text/html": [
       "<div>\n",
       "<style scoped>\n",
       "    .dataframe tbody tr th:only-of-type {\n",
       "        vertical-align: middle;\n",
       "    }\n",
       "\n",
       "    .dataframe tbody tr th {\n",
       "        vertical-align: top;\n",
       "    }\n",
       "\n",
       "    .dataframe thead th {\n",
       "        text-align: right;\n",
       "    }\n",
       "</style>\n",
       "<table border=\"1\" class=\"dataframe\">\n",
       "  <thead>\n",
       "    <tr style=\"text-align: right;\">\n",
       "      <th></th>\n",
       "      <th>channel_id</th>\n",
       "    </tr>\n",
       "  </thead>\n",
       "  <tbody>\n",
       "    <tr>\n",
       "      <th>0</th>\n",
       "      <td>UCtYLUTtgS3k1Fg4y5tAhLbw</td>\n",
       "    </tr>\n",
       "    <tr>\n",
       "      <th>1</th>\n",
       "      <td>UC4JX40jDee_tINbkjycV4Sg</td>\n",
       "    </tr>\n",
       "    <tr>\n",
       "      <th>2</th>\n",
       "      <td>UC8butISFwT-Wl7EV0hUK0BQ</td>\n",
       "    </tr>\n",
       "    <tr>\n",
       "      <th>3</th>\n",
       "      <td>UCFbNIlppjAuEX4znoulh0Cw</td>\n",
       "    </tr>\n",
       "    <tr>\n",
       "      <th>4</th>\n",
       "      <td>UC6AVa0vSrCpuskzGDDKz_EQ</td>\n",
       "    </tr>\n",
       "  </tbody>\n",
       "</table>\n",
       "</div>"
      ],
      "text/plain": [
       "                 channel_id\n",
       "0  UCtYLUTtgS3k1Fg4y5tAhLbw\n",
       "1  UC4JX40jDee_tINbkjycV4Sg\n",
       "2  UC8butISFwT-Wl7EV0hUK0BQ\n",
       "3  UCFbNIlppjAuEX4znoulh0Cw\n",
       "4  UC6AVa0vSrCpuskzGDDKz_EQ"
      ]
     },
     "execution_count": 7,
     "metadata": {},
     "output_type": "execute_result"
    }
   ],
   "source": [
    "# Get only channels that don't exist already in the db\n",
    "new_channels_df = import_channel_df[~import_channel_df['channel_id'].isin(db_channels_df['channel_id'])]\n",
    "\n",
    "# Convert new channels to a list to pass to the API\n",
    "channel_ids = new_channels_df['channel_id'].tolist()\n",
    "\n",
    "new_channels_df.head()"
   ]
  },
  {
   "cell_type": "markdown",
   "metadata": {},
   "source": [
    "### Function to return channel details"
   ]
  },
  {
   "cell_type": "code",
   "execution_count": 8,
   "metadata": {},
   "outputs": [],
   "source": [
    "def get_channel_stats(youtube, channel_ids):\n",
    "    all_data = []\n",
    "\n",
    "    try:\n",
    "        # Split channel_ids list into chunks of up to 50 ids each\n",
    "        id_chunks = [channel_ids[i:i+50] for i in range(0, len(channel_ids), 50)]\n",
    "\n",
    "        for id_chunk in id_chunks:\n",
    "            request = youtube.channels().list(\n",
    "                part='snippet,contentDetails,statistics',\n",
    "                id=','.join(id_chunk)\n",
    "            )\n",
    "            response = request.execute()\n",
    "\n",
    "            for item in response.get('items', []):\n",
    "                data = {\n",
    "                    'channel_name': item['snippet']['title'],\n",
    "                    'channel_id': item['id'],\n",
    "                    'description': item['snippet']['description'],\n",
    "                    'subscriber_count': item['statistics']['subscriberCount'],\n",
    "                    'view_count': item['statistics']['viewCount'],\n",
    "                    'video_count': item['statistics']['videoCount'],\n",
    "                    'playlist_id': item['contentDetails']['relatedPlaylists']['uploads'],\n",
    "                    'start_date': item['snippet']['publishedAt'],\n",
    "                    'country': item['snippet'].get('country', None),\n",
    "                }\n",
    "                all_data.append(data)\n",
    "    except Exception as e:\n",
    "        print(f\"Error occurred: {e}\")\n",
    "\n",
    "    return pd.DataFrame(all_data)"
   ]
  },
  {
   "cell_type": "markdown",
   "metadata": {},
   "source": [
    "### Get channel data if there are new channels to process"
   ]
  },
  {
   "cell_type": "code",
   "execution_count": 9,
   "metadata": {},
   "outputs": [],
   "source": [
    "# Check if there are new channels to process\n",
    "if len(new_channels_df) > 0:\n",
    "    # Get channel details\n",
    "    channels_df = get_channel_stats(youtube, channel_ids)"
   ]
  },
  {
   "cell_type": "markdown",
   "metadata": {},
   "source": [
    "### Covert start date to dt format"
   ]
  },
  {
   "cell_type": "code",
   "execution_count": 10,
   "metadata": {},
   "outputs": [],
   "source": [
    "channels_df['start_date'] = pd.to_datetime(channels_df['start_date']).dt.date"
   ]
  },
  {
   "cell_type": "code",
   "execution_count": 11,
   "metadata": {},
   "outputs": [
    {
     "data": {
      "text/html": [
       "<div>\n",
       "<style scoped>\n",
       "    .dataframe tbody tr th:only-of-type {\n",
       "        vertical-align: middle;\n",
       "    }\n",
       "\n",
       "    .dataframe tbody tr th {\n",
       "        vertical-align: top;\n",
       "    }\n",
       "\n",
       "    .dataframe thead th {\n",
       "        text-align: right;\n",
       "    }\n",
       "</style>\n",
       "<table border=\"1\" class=\"dataframe\">\n",
       "  <thead>\n",
       "    <tr style=\"text-align: right;\">\n",
       "      <th></th>\n",
       "      <th>channel_name</th>\n",
       "      <th>channel_id</th>\n",
       "      <th>description</th>\n",
       "      <th>subscriber_count</th>\n",
       "      <th>view_count</th>\n",
       "      <th>video_count</th>\n",
       "      <th>playlist_id</th>\n",
       "      <th>start_date</th>\n",
       "      <th>country</th>\n",
       "    </tr>\n",
       "  </thead>\n",
       "  <tbody>\n",
       "    <tr>\n",
       "      <th>0</th>\n",
       "      <td>Dataquest</td>\n",
       "      <td>UC_lePY0Lm0E2-_IkYUWpI5A</td>\n",
       "      <td>Learn AI and data skills 10x faster with Dataq...</td>\n",
       "      <td>49400</td>\n",
       "      <td>1684659</td>\n",
       "      <td>49</td>\n",
       "      <td>UU_lePY0Lm0E2-_IkYUWpI5A</td>\n",
       "      <td>2019-01-30</td>\n",
       "      <td>US</td>\n",
       "    </tr>\n",
       "    <tr>\n",
       "      <th>1</th>\n",
       "      <td>Luke Barousse</td>\n",
       "      <td>UCLLw7jmFsvfIVaUFsLs8mlQ</td>\n",
       "      <td>What's up, Data Nerds! I'm Luke, a data analys...</td>\n",
       "      <td>412000</td>\n",
       "      <td>20450551</td>\n",
       "      <td>153</td>\n",
       "      <td>UULLw7jmFsvfIVaUFsLs8mlQ</td>\n",
       "      <td>2020-08-03</td>\n",
       "      <td>US</td>\n",
       "    </tr>\n",
       "    <tr>\n",
       "      <th>2</th>\n",
       "      <td>Learn with Lukas</td>\n",
       "      <td>UCw_LFe2pS8x3NyipGNJgeEA</td>\n",
       "      <td>Hey there, I'm Lukas! 👋\\n\\nOn this channel I'l...</td>\n",
       "      <td>33000</td>\n",
       "      <td>1843768</td>\n",
       "      <td>72</td>\n",
       "      <td>UUw_LFe2pS8x3NyipGNJgeEA</td>\n",
       "      <td>2020-11-26</td>\n",
       "      <td>US</td>\n",
       "    </tr>\n",
       "    <tr>\n",
       "      <th>3</th>\n",
       "      <td>Ayush Singh</td>\n",
       "      <td>UCkRFwipiIqBTakN-mkZ-GcQ</td>\n",
       "      <td></td>\n",
       "      <td>70200</td>\n",
       "      <td>2075280</td>\n",
       "      <td>24</td>\n",
       "      <td>UUkRFwipiIqBTakN-mkZ-GcQ</td>\n",
       "      <td>2022-06-25</td>\n",
       "      <td>IN</td>\n",
       "    </tr>\n",
       "    <tr>\n",
       "      <th>4</th>\n",
       "      <td>Mo Chen</td>\n",
       "      <td>UCDybamfye5An6p-j1t2YMsg</td>\n",
       "      <td>👋 Hey there, my name is Mo Chen and I work as ...</td>\n",
       "      <td>82100</td>\n",
       "      <td>2658864</td>\n",
       "      <td>88</td>\n",
       "      <td>UUDybamfye5An6p-j1t2YMsg</td>\n",
       "      <td>2022-12-25</td>\n",
       "      <td>GB</td>\n",
       "    </tr>\n",
       "  </tbody>\n",
       "</table>\n",
       "</div>"
      ],
      "text/plain": [
       "       channel_name                channel_id  \\\n",
       "0         Dataquest  UC_lePY0Lm0E2-_IkYUWpI5A   \n",
       "1     Luke Barousse  UCLLw7jmFsvfIVaUFsLs8mlQ   \n",
       "2  Learn with Lukas  UCw_LFe2pS8x3NyipGNJgeEA   \n",
       "3       Ayush Singh  UCkRFwipiIqBTakN-mkZ-GcQ   \n",
       "4           Mo Chen  UCDybamfye5An6p-j1t2YMsg   \n",
       "\n",
       "                                         description subscriber_count  \\\n",
       "0  Learn AI and data skills 10x faster with Dataq...            49400   \n",
       "1  What's up, Data Nerds! I'm Luke, a data analys...           412000   \n",
       "2  Hey there, I'm Lukas! 👋\\n\\nOn this channel I'l...            33000   \n",
       "3                                                               70200   \n",
       "4  👋 Hey there, my name is Mo Chen and I work as ...            82100   \n",
       "\n",
       "  view_count video_count               playlist_id  start_date country  \n",
       "0    1684659          49  UU_lePY0Lm0E2-_IkYUWpI5A  2019-01-30      US  \n",
       "1   20450551         153  UULLw7jmFsvfIVaUFsLs8mlQ  2020-08-03      US  \n",
       "2    1843768          72  UUw_LFe2pS8x3NyipGNJgeEA  2020-11-26      US  \n",
       "3    2075280          24  UUkRFwipiIqBTakN-mkZ-GcQ  2022-06-25      IN  \n",
       "4    2658864          88  UUDybamfye5An6p-j1t2YMsg  2022-12-25      GB  "
      ]
     },
     "execution_count": 11,
     "metadata": {},
     "output_type": "execute_result"
    }
   ],
   "source": [
    "channels_df.head()"
   ]
  },
  {
   "cell_type": "code",
   "execution_count": 12,
   "metadata": {},
   "outputs": [
    {
     "data": {
      "text/html": [
       "<div>\n",
       "<style scoped>\n",
       "    .dataframe tbody tr th:only-of-type {\n",
       "        vertical-align: middle;\n",
       "    }\n",
       "\n",
       "    .dataframe tbody tr th {\n",
       "        vertical-align: top;\n",
       "    }\n",
       "\n",
       "    .dataframe thead th {\n",
       "        text-align: right;\n",
       "    }\n",
       "</style>\n",
       "<table border=\"1\" class=\"dataframe\">\n",
       "  <thead>\n",
       "    <tr style=\"text-align: right;\">\n",
       "      <th></th>\n",
       "      <th>channel_name</th>\n",
       "      <th>channel_id</th>\n",
       "      <th>description</th>\n",
       "      <th>subscriber_count</th>\n",
       "      <th>view_count</th>\n",
       "      <th>video_count</th>\n",
       "      <th>playlist_id</th>\n",
       "      <th>start_date</th>\n",
       "      <th>country</th>\n",
       "    </tr>\n",
       "  </thead>\n",
       "  <tbody>\n",
       "  </tbody>\n",
       "</table>\n",
       "</div>"
      ],
      "text/plain": [
       "Empty DataFrame\n",
       "Columns: [channel_name, channel_id, description, subscriber_count, view_count, video_count, playlist_id, start_date, country]\n",
       "Index: []"
      ]
     },
     "execution_count": 12,
     "metadata": {},
     "output_type": "execute_result"
    }
   ],
   "source": [
    "# Check for duplicates\n",
    "channels_df[channels_df['channel_id'].duplicated()]"
   ]
  },
  {
   "cell_type": "markdown",
   "metadata": {},
   "source": [
    "Push channel data to db"
   ]
  },
  {
   "cell_type": "code",
   "execution_count": 13,
   "metadata": {},
   "outputs": [
    {
     "data": {
      "text/plain": [
       "100"
      ]
     },
     "execution_count": 13,
     "metadata": {},
     "output_type": "execute_result"
    }
   ],
   "source": [
    "# Push df to database\n",
    "channels_df.to_sql(\"channel\", engine, if_exists='append', index=False)"
   ]
  },
  {
   "cell_type": "code",
   "execution_count": 14,
   "metadata": {},
   "outputs": [
    {
     "data": {
      "text/html": [
       "<div>\n",
       "<style scoped>\n",
       "    .dataframe tbody tr th:only-of-type {\n",
       "        vertical-align: middle;\n",
       "    }\n",
       "\n",
       "    .dataframe tbody tr th {\n",
       "        vertical-align: top;\n",
       "    }\n",
       "\n",
       "    .dataframe thead th {\n",
       "        text-align: right;\n",
       "    }\n",
       "</style>\n",
       "<table border=\"1\" class=\"dataframe\">\n",
       "  <thead>\n",
       "    <tr style=\"text-align: right;\">\n",
       "      <th></th>\n",
       "      <th>channel_id</th>\n",
       "      <th>channel_name</th>\n",
       "      <th>description</th>\n",
       "      <th>subscriber_count</th>\n",
       "      <th>view_count</th>\n",
       "      <th>video_count</th>\n",
       "      <th>playlist_id</th>\n",
       "      <th>start_date</th>\n",
       "      <th>country</th>\n",
       "    </tr>\n",
       "  </thead>\n",
       "  <tbody>\n",
       "    <tr>\n",
       "      <th>0</th>\n",
       "      <td>UC_lePY0Lm0E2-_IkYUWpI5A</td>\n",
       "      <td>Dataquest</td>\n",
       "      <td>Learn AI and data skills 10x faster with Dataq...</td>\n",
       "      <td>49400</td>\n",
       "      <td>1684659</td>\n",
       "      <td>49</td>\n",
       "      <td>UU_lePY0Lm0E2-_IkYUWpI5A</td>\n",
       "      <td>2019-01-30</td>\n",
       "      <td>US</td>\n",
       "    </tr>\n",
       "    <tr>\n",
       "      <th>1</th>\n",
       "      <td>UCLLw7jmFsvfIVaUFsLs8mlQ</td>\n",
       "      <td>Luke Barousse</td>\n",
       "      <td>What's up, Data Nerds! I'm Luke, a data analys...</td>\n",
       "      <td>412000</td>\n",
       "      <td>20450551</td>\n",
       "      <td>153</td>\n",
       "      <td>UULLw7jmFsvfIVaUFsLs8mlQ</td>\n",
       "      <td>2020-08-03</td>\n",
       "      <td>US</td>\n",
       "    </tr>\n",
       "    <tr>\n",
       "      <th>2</th>\n",
       "      <td>UCw_LFe2pS8x3NyipGNJgeEA</td>\n",
       "      <td>Learn with Lukas</td>\n",
       "      <td>Hey there, I'm Lukas! 👋\\n\\nOn this channel I'l...</td>\n",
       "      <td>33000</td>\n",
       "      <td>1843768</td>\n",
       "      <td>72</td>\n",
       "      <td>UUw_LFe2pS8x3NyipGNJgeEA</td>\n",
       "      <td>2020-11-26</td>\n",
       "      <td>US</td>\n",
       "    </tr>\n",
       "    <tr>\n",
       "      <th>3</th>\n",
       "      <td>UCkRFwipiIqBTakN-mkZ-GcQ</td>\n",
       "      <td>Ayush Singh</td>\n",
       "      <td></td>\n",
       "      <td>70200</td>\n",
       "      <td>2075280</td>\n",
       "      <td>24</td>\n",
       "      <td>UUkRFwipiIqBTakN-mkZ-GcQ</td>\n",
       "      <td>2022-06-25</td>\n",
       "      <td>IN</td>\n",
       "    </tr>\n",
       "    <tr>\n",
       "      <th>4</th>\n",
       "      <td>UCDybamfye5An6p-j1t2YMsg</td>\n",
       "      <td>Mo Chen</td>\n",
       "      <td>👋 Hey there, my name is Mo Chen and I work as ...</td>\n",
       "      <td>82100</td>\n",
       "      <td>2658864</td>\n",
       "      <td>88</td>\n",
       "      <td>UUDybamfye5An6p-j1t2YMsg</td>\n",
       "      <td>2022-12-25</td>\n",
       "      <td>GB</td>\n",
       "    </tr>\n",
       "  </tbody>\n",
       "</table>\n",
       "</div>"
      ],
      "text/plain": [
       "                 channel_id      channel_name  \\\n",
       "0  UC_lePY0Lm0E2-_IkYUWpI5A         Dataquest   \n",
       "1  UCLLw7jmFsvfIVaUFsLs8mlQ     Luke Barousse   \n",
       "2  UCw_LFe2pS8x3NyipGNJgeEA  Learn with Lukas   \n",
       "3  UCkRFwipiIqBTakN-mkZ-GcQ       Ayush Singh   \n",
       "4  UCDybamfye5An6p-j1t2YMsg           Mo Chen   \n",
       "\n",
       "                                         description  subscriber_count  \\\n",
       "0  Learn AI and data skills 10x faster with Dataq...             49400   \n",
       "1  What's up, Data Nerds! I'm Luke, a data analys...            412000   \n",
       "2  Hey there, I'm Lukas! 👋\\n\\nOn this channel I'l...             33000   \n",
       "3                                                                70200   \n",
       "4  👋 Hey there, my name is Mo Chen and I work as ...             82100   \n",
       "\n",
       "   view_count  video_count               playlist_id  start_date country  \n",
       "0     1684659           49  UU_lePY0Lm0E2-_IkYUWpI5A  2019-01-30      US  \n",
       "1    20450551          153  UULLw7jmFsvfIVaUFsLs8mlQ  2020-08-03      US  \n",
       "2     1843768           72  UUw_LFe2pS8x3NyipGNJgeEA  2020-11-26      US  \n",
       "3     2075280           24  UUkRFwipiIqBTakN-mkZ-GcQ  2022-06-25      IN  \n",
       "4     2658864           88  UUDybamfye5An6p-j1t2YMsg  2022-12-25      GB  "
      ]
     },
     "execution_count": 14,
     "metadata": {},
     "output_type": "execute_result"
    }
   ],
   "source": [
    "# Test database with simple query\n",
    "query = text('SELECT * FROM channel')\n",
    "test_df = pd.read_sql_query(query, conn)\n",
    "test_df.head()"
   ]
  },
  {
   "cell_type": "markdown",
   "metadata": {},
   "source": [
    "### Get all video ids from a channel"
   ]
  },
  {
   "cell_type": "code",
   "execution_count": 15,
   "metadata": {},
   "outputs": [],
   "source": [
    "def get_video_ids(youtube, playlist_id):\n",
    "\n",
    "    video_ids = []\n",
    "\n",
    "    try:\n",
    "        # Initial request for the first page of videos\n",
    "        request = youtube.playlistItems().list(\n",
    "            part='contentDetails',\n",
    "            playlistId=playlist_id,\n",
    "            maxResults=50\n",
    "        )\n",
    "        response = request.execute()\n",
    "\n",
    "        # Extract video IDs from the first page of response\n",
    "        for item in response.get('items', []):\n",
    "            video_ids.append(item['contentDetails']['videoId'])\n",
    "\n",
    "        # Fetch additional pages of videos, if available\n",
    "        while 'nextPageToken' in response:\n",
    "            request = youtube.playlistItems().list(\n",
    "                part='contentDetails',\n",
    "                playlistId=playlist_id,\n",
    "                maxResults=50,\n",
    "                pageToken=response['nextPageToken']\n",
    "            )\n",
    "            response = request.execute()\n",
    "\n",
    "            # Extract video IDs from the current page of response\n",
    "            for item in response.get('items', []):\n",
    "                video_ids.append(item['contentDetails']['videoId'])\n",
    "    except Exception as e:\n",
    "        print(f\"Error occurred: {e}\")\n",
    "\n",
    "    return video_ids"
   ]
  },
  {
   "cell_type": "markdown",
   "metadata": {},
   "source": [
    "### Get video details for video IDs"
   ]
  },
  {
   "cell_type": "code",
   "execution_count": 16,
   "metadata": {},
   "outputs": [],
   "source": [
    "def get_video_details(youtube, video_ids):\n",
    "\n",
    "    all_video_info = []\n",
    "\n",
    "    try:\n",
    "        # Split video_ids list into chunks of up to 50 IDs each\n",
    "        id_chunks = [video_ids[i:i+50] for i in range(0, len(video_ids), 50)]\n",
    "\n",
    "        for id_chunk in id_chunks:\n",
    "            request = youtube.videos().list(\n",
    "                part=\"snippet,contentDetails,statistics\",\n",
    "                id=','.join(id_chunk)\n",
    "            )\n",
    "            response = request.execute()\n",
    "\n",
    "            for video in response.get('items', []):\n",
    "                video_info = {\n",
    "                    'channel_id': video['snippet']['channelId'],\n",
    "                    'video_id': video['id'],\n",
    "                    'video_title': video['snippet']['title'],\n",
    "                    'description': video['snippet']['description'],\n",
    "                    'tags': video['snippet'].get('tags', []),\n",
    "                    'published': video['snippet']['publishedAt'],\n",
    "                    'view_count': video['statistics'].get('viewCount', None),\n",
    "                    'like_count': video['statistics'].get('likeCount', None),\n",
    "                    'favourite_count': video['statistics'].get('favoriteCount', None),\n",
    "                    'comment_count': video['statistics'].get('commentCount', None),\n",
    "                    'duration': video['contentDetails'].get('duration', None),\n",
    "                    'definition': video['contentDetails'].get('definition', None),\n",
    "                    'caption': video['contentDetails'].get('caption', None),\n",
    "                    'category_id': video['snippet'].get('categoryId', None),\n",
    "                }\n",
    "                all_video_info.append(video_info)\n",
    "    except Exception as e:\n",
    "        print(f\"Error occurred: {e}\")\n",
    "\n",
    "    return pd.DataFrame(all_video_info)\n"
   ]
  },
  {
   "cell_type": "markdown",
   "metadata": {},
   "source": [
    "### Get video data for each channel"
   ]
  },
  {
   "cell_type": "code",
   "execution_count": 27,
   "metadata": {},
   "outputs": [],
   "source": [
    "videos_df = pd.DataFrame()\n",
    "\n",
    "for channel in channels_df['channel_name']:\n",
    "    # Get playlist id for channel\n",
    "    playlist_id = channels_df.loc[channels_df['channel_name'] == channel, 'playlist_id'].iloc[0]\n",
    "    # Get all video ids for channel\n",
    "    video_ids = get_video_ids(youtube, playlist_id)\n",
    "    num_of_videos = len(video_ids)\n",
    "    print(f\"{num_of_videos} videos found for channel ID: {channel}\")\n",
    "\n",
    "    # Get video data for each video\n",
    "    video_data = get_video_details(youtube, video_ids)\n",
    "\n",
    "    # Concat to main df\n",
    "    videos_df = pd.concat([videos_df, video_data], ignore_index=True)"
   ]
  },
  {
   "cell_type": "markdown",
   "metadata": {},
   "source": [
    "### Convert dates to dt"
   ]
  },
  {
   "cell_type": "code",
   "execution_count": 28,
   "metadata": {},
   "outputs": [],
   "source": [
    "videos_df['published'] = pd.to_datetime(videos_df['published'])"
   ]
  },
  {
   "cell_type": "markdown",
   "metadata": {},
   "source": [
    "### Covert duration to seconds using ISODATE"
   ]
  },
  {
   "cell_type": "code",
   "execution_count": 29,
   "metadata": {},
   "outputs": [],
   "source": [
    "def duration_to_seconds(duration_str):\n",
    "    duration = isodate.parse_duration(duration_str)\n",
    "    total_seconds = duration.total_seconds()\n",
    "    return int(total_seconds)"
   ]
  },
  {
   "cell_type": "code",
   "execution_count": 30,
   "metadata": {},
   "outputs": [],
   "source": [
    "videos_df['duration'] = videos_df['duration'].apply(duration_to_seconds)"
   ]
  },
  {
   "cell_type": "markdown",
   "metadata": {},
   "source": [
    "### Convert tag list to string"
   ]
  },
  {
   "cell_type": "code",
   "execution_count": 31,
   "metadata": {},
   "outputs": [],
   "source": [
    "videos_df['tags'] = videos_df['tags'].apply(', '.join)"
   ]
  },
  {
   "cell_type": "code",
   "execution_count": 32,
   "metadata": {},
   "outputs": [
    {
     "data": {
      "text/html": [
       "<div>\n",
       "<style scoped>\n",
       "    .dataframe tbody tr th:only-of-type {\n",
       "        vertical-align: middle;\n",
       "    }\n",
       "\n",
       "    .dataframe tbody tr th {\n",
       "        vertical-align: top;\n",
       "    }\n",
       "\n",
       "    .dataframe thead th {\n",
       "        text-align: right;\n",
       "    }\n",
       "</style>\n",
       "<table border=\"1\" class=\"dataframe\">\n",
       "  <thead>\n",
       "    <tr style=\"text-align: right;\">\n",
       "      <th></th>\n",
       "      <th>channel_id</th>\n",
       "      <th>video_id</th>\n",
       "      <th>video_title</th>\n",
       "      <th>description</th>\n",
       "      <th>tags</th>\n",
       "      <th>published</th>\n",
       "      <th>view_count</th>\n",
       "      <th>like_count</th>\n",
       "      <th>favourite_count</th>\n",
       "      <th>comment_count</th>\n",
       "      <th>duration</th>\n",
       "      <th>definition</th>\n",
       "      <th>caption</th>\n",
       "      <th>category_id</th>\n",
       "    </tr>\n",
       "  </thead>\n",
       "  <tbody>\n",
       "    <tr>\n",
       "      <th>44780</th>\n",
       "      <td>UCqBFsuAz41sqWcFjZkqmJqQ</td>\n",
       "      <td>WBiMeRD5yXk</td>\n",
       "      <td>Choropleth Map (Submit Button) - Python Dash P...</td>\n",
       "      <td>Learn how to make an interactive Choropleth ma...</td>\n",
       "      <td>data analysis, data visualization, python, dat...</td>\n",
       "      <td>2020-02-09 08:59:29+00:00</td>\n",
       "      <td>16205</td>\n",
       "      <td>280</td>\n",
       "      <td>0</td>\n",
       "      <td>55</td>\n",
       "      <td>1194</td>\n",
       "      <td>hd</td>\n",
       "      <td>false</td>\n",
       "      <td>27</td>\n",
       "    </tr>\n",
       "    <tr>\n",
       "      <th>44781</th>\n",
       "      <td>UCqBFsuAz41sqWcFjZkqmJqQ</td>\n",
       "      <td>DCHkv3x3Vs8</td>\n",
       "      <td>Scatter Plot (RangeSlider) - Python Dash Plotly</td>\n",
       "      <td>Using RangeSlider and a Scatter Plot, this tut...</td>\n",
       "      <td>Dash, Plotly, Scatter Plot, data analysis, dat...</td>\n",
       "      <td>2020-01-29 06:31:13+00:00</td>\n",
       "      <td>9142</td>\n",
       "      <td>134</td>\n",
       "      <td>0</td>\n",
       "      <td>22</td>\n",
       "      <td>1072</td>\n",
       "      <td>hd</td>\n",
       "      <td>false</td>\n",
       "      <td>27</td>\n",
       "    </tr>\n",
       "    <tr>\n",
       "      <th>44782</th>\n",
       "      <td>UCqBFsuAz41sqWcFjZkqmJqQ</td>\n",
       "      <td>7R7VMSLwooo</td>\n",
       "      <td>Scatter Plot Mapbox (Checkbox) - Dash Python</td>\n",
       "      <td>Learn to create an interactive Scatter MapBox ...</td>\n",
       "      <td>Dash, Plotly, Bar graph, Bar Chart, data analy...</td>\n",
       "      <td>2020-01-21 14:43:10+00:00</td>\n",
       "      <td>18183</td>\n",
       "      <td>288</td>\n",
       "      <td>0</td>\n",
       "      <td>60</td>\n",
       "      <td>2012</td>\n",
       "      <td>hd</td>\n",
       "      <td>false</td>\n",
       "      <td>27</td>\n",
       "    </tr>\n",
       "    <tr>\n",
       "      <th>44783</th>\n",
       "      <td>UCqBFsuAz41sqWcFjZkqmJqQ</td>\n",
       "      <td>FuJOsZgo4nU</td>\n",
       "      <td>Bar Graph (RadioItems) - Python Dash Plotly</td>\n",
       "      <td>Using Radioitems and bar graphs, this tutorial...</td>\n",
       "      <td>Dash tutorial series, Interacting With Plotly ...</td>\n",
       "      <td>2020-01-18 22:22:47+00:00</td>\n",
       "      <td>12175</td>\n",
       "      <td>173</td>\n",
       "      <td>0</td>\n",
       "      <td>33</td>\n",
       "      <td>1739</td>\n",
       "      <td>hd</td>\n",
       "      <td>true</td>\n",
       "      <td>27</td>\n",
       "    </tr>\n",
       "    <tr>\n",
       "      <th>44784</th>\n",
       "      <td>UCqBFsuAz41sqWcFjZkqmJqQ</td>\n",
       "      <td>iV51JqP6y_Q</td>\n",
       "      <td>Pie Chart (Dropdowns) - Python Dash Plotly</td>\n",
       "      <td>Using Dropdown and a pie chart, this tutorial ...</td>\n",
       "      <td>GETTING STARTED WITH SCATTERPLOT AND PIE CHART...</td>\n",
       "      <td>2020-01-12 14:26:08+00:00</td>\n",
       "      <td>32700</td>\n",
       "      <td>535</td>\n",
       "      <td>0</td>\n",
       "      <td>110</td>\n",
       "      <td>1063</td>\n",
       "      <td>hd</td>\n",
       "      <td>false</td>\n",
       "      <td>27</td>\n",
       "    </tr>\n",
       "  </tbody>\n",
       "</table>\n",
       "</div>"
      ],
      "text/plain": [
       "                     channel_id     video_id  \\\n",
       "44780  UCqBFsuAz41sqWcFjZkqmJqQ  WBiMeRD5yXk   \n",
       "44781  UCqBFsuAz41sqWcFjZkqmJqQ  DCHkv3x3Vs8   \n",
       "44782  UCqBFsuAz41sqWcFjZkqmJqQ  7R7VMSLwooo   \n",
       "44783  UCqBFsuAz41sqWcFjZkqmJqQ  FuJOsZgo4nU   \n",
       "44784  UCqBFsuAz41sqWcFjZkqmJqQ  iV51JqP6y_Q   \n",
       "\n",
       "                                             video_title  \\\n",
       "44780  Choropleth Map (Submit Button) - Python Dash P...   \n",
       "44781    Scatter Plot (RangeSlider) - Python Dash Plotly   \n",
       "44782       Scatter Plot Mapbox (Checkbox) - Dash Python   \n",
       "44783        Bar Graph (RadioItems) - Python Dash Plotly   \n",
       "44784         Pie Chart (Dropdowns) - Python Dash Plotly   \n",
       "\n",
       "                                             description  \\\n",
       "44780  Learn how to make an interactive Choropleth ma...   \n",
       "44781  Using RangeSlider and a Scatter Plot, this tut...   \n",
       "44782  Learn to create an interactive Scatter MapBox ...   \n",
       "44783  Using Radioitems and bar graphs, this tutorial...   \n",
       "44784  Using Dropdown and a pie chart, this tutorial ...   \n",
       "\n",
       "                                                    tags  \\\n",
       "44780  data analysis, data visualization, python, dat...   \n",
       "44781  Dash, Plotly, Scatter Plot, data analysis, dat...   \n",
       "44782  Dash, Plotly, Bar graph, Bar Chart, data analy...   \n",
       "44783  Dash tutorial series, Interacting With Plotly ...   \n",
       "44784  GETTING STARTED WITH SCATTERPLOT AND PIE CHART...   \n",
       "\n",
       "                      published view_count like_count favourite_count  \\\n",
       "44780 2020-02-09 08:59:29+00:00      16205        280               0   \n",
       "44781 2020-01-29 06:31:13+00:00       9142        134               0   \n",
       "44782 2020-01-21 14:43:10+00:00      18183        288               0   \n",
       "44783 2020-01-18 22:22:47+00:00      12175        173               0   \n",
       "44784 2020-01-12 14:26:08+00:00      32700        535               0   \n",
       "\n",
       "      comment_count  duration definition caption category_id  \n",
       "44780            55      1194         hd   false          27  \n",
       "44781            22      1072         hd   false          27  \n",
       "44782            60      2012         hd   false          27  \n",
       "44783            33      1739         hd    true          27  \n",
       "44784           110      1063         hd   false          27  "
      ]
     },
     "execution_count": 32,
     "metadata": {},
     "output_type": "execute_result"
    }
   ],
   "source": [
    "videos_df.tail()"
   ]
  },
  {
   "cell_type": "markdown",
   "metadata": {},
   "source": [
    "### Export video df to database"
   ]
  },
  {
   "cell_type": "code",
   "execution_count": 33,
   "metadata": {},
   "outputs": [
    {
     "data": {
      "text/plain": [
       "44785"
      ]
     },
     "execution_count": 33,
     "metadata": {},
     "output_type": "execute_result"
    }
   ],
   "source": [
    "# Push df to database\n",
    "videos_df.to_sql(name=\"video\", con=engine, if_exists='append', index=False)"
   ]
  },
  {
   "cell_type": "code",
   "execution_count": 34,
   "metadata": {},
   "outputs": [
    {
     "data": {
      "text/html": [
       "<div>\n",
       "<style scoped>\n",
       "    .dataframe tbody tr th:only-of-type {\n",
       "        vertical-align: middle;\n",
       "    }\n",
       "\n",
       "    .dataframe tbody tr th {\n",
       "        vertical-align: top;\n",
       "    }\n",
       "\n",
       "    .dataframe thead th {\n",
       "        text-align: right;\n",
       "    }\n",
       "</style>\n",
       "<table border=\"1\" class=\"dataframe\">\n",
       "  <thead>\n",
       "    <tr style=\"text-align: right;\">\n",
       "      <th></th>\n",
       "      <th>channel_id</th>\n",
       "      <th>video_id</th>\n",
       "      <th>video_title</th>\n",
       "      <th>description</th>\n",
       "      <th>tags</th>\n",
       "      <th>published</th>\n",
       "      <th>view_count</th>\n",
       "      <th>like_count</th>\n",
       "      <th>favourite_count</th>\n",
       "      <th>comment_count</th>\n",
       "      <th>duration</th>\n",
       "      <th>definition</th>\n",
       "      <th>caption</th>\n",
       "      <th>category_id</th>\n",
       "    </tr>\n",
       "  </thead>\n",
       "  <tbody>\n",
       "    <tr>\n",
       "      <th>0</th>\n",
       "      <td>UC_lePY0Lm0E2-_IkYUWpI5A</td>\n",
       "      <td>EDt811lX6B4</td>\n",
       "      <td>Why you Should Keep Working on Harder (and Har...</td>\n",
       "      <td>Become a Python Pro! Take on Bigger Challenges...</td>\n",
       "      <td></td>\n",
       "      <td>2023-10-02 14:00:12.000000</td>\n",
       "      <td>414.0</td>\n",
       "      <td>21.0</td>\n",
       "      <td>0</td>\n",
       "      <td>0.0</td>\n",
       "      <td>58</td>\n",
       "      <td>hd</td>\n",
       "      <td>false</td>\n",
       "      <td>27</td>\n",
       "    </tr>\n",
       "    <tr>\n",
       "      <th>1</th>\n",
       "      <td>UC_lePY0Lm0E2-_IkYUWpI5A</td>\n",
       "      <td>blXQZFGzAdA</td>\n",
       "      <td>How to Create Your Own Python Projects?</td>\n",
       "      <td>After you’ve worked through a few structured p...</td>\n",
       "      <td>learn python, learn to code, how to learn pyth...</td>\n",
       "      <td>2023-09-28 14:00:22.000000</td>\n",
       "      <td>676.0</td>\n",
       "      <td>26.0</td>\n",
       "      <td>0</td>\n",
       "      <td>0.0</td>\n",
       "      <td>32</td>\n",
       "      <td>hd</td>\n",
       "      <td>false</td>\n",
       "      <td>27</td>\n",
       "    </tr>\n",
       "    <tr>\n",
       "      <th>2</th>\n",
       "      <td>UC_lePY0Lm0E2-_IkYUWpI5A</td>\n",
       "      <td>WM47-5hvtmA</td>\n",
       "      <td>Why Start with Guided Projects? Learn Python t...</td>\n",
       "      <td>When it comes to guided projects, there is no ...</td>\n",
       "      <td>learn python, learn to code, how to learn pyth...</td>\n",
       "      <td>2023-09-25 14:00:23.000000</td>\n",
       "      <td>301.0</td>\n",
       "      <td>14.0</td>\n",
       "      <td>0</td>\n",
       "      <td>0.0</td>\n",
       "      <td>44</td>\n",
       "      <td>hd</td>\n",
       "      <td>false</td>\n",
       "      <td>27</td>\n",
       "    </tr>\n",
       "    <tr>\n",
       "      <th>3</th>\n",
       "      <td>UC_lePY0Lm0E2-_IkYUWpI5A</td>\n",
       "      <td>VycKHaHXlEc</td>\n",
       "      <td>Learn the Basic Syntax, Quickly!</td>\n",
       "      <td>We know you can't wait to start your own proje...</td>\n",
       "      <td>learn python, learn to code, how to learn pyth...</td>\n",
       "      <td>2023-09-22 14:00:23.000000</td>\n",
       "      <td>404.0</td>\n",
       "      <td>13.0</td>\n",
       "      <td>0</td>\n",
       "      <td>0.0</td>\n",
       "      <td>27</td>\n",
       "      <td>hd</td>\n",
       "      <td>false</td>\n",
       "      <td>27</td>\n",
       "    </tr>\n",
       "    <tr>\n",
       "      <th>4</th>\n",
       "      <td>UC_lePY0Lm0E2-_IkYUWpI5A</td>\n",
       "      <td>-9-U6BwLU7M</td>\n",
       "      <td>Why do You Want to Learn Python?</td>\n",
       "      <td>Ever wondered why you should learn Python? Ste...</td>\n",
       "      <td>how to learn programming language, learn progr...</td>\n",
       "      <td>2023-09-18 14:00:00.000000</td>\n",
       "      <td>586.0</td>\n",
       "      <td>28.0</td>\n",
       "      <td>0</td>\n",
       "      <td>1.0</td>\n",
       "      <td>60</td>\n",
       "      <td>hd</td>\n",
       "      <td>false</td>\n",
       "      <td>27</td>\n",
       "    </tr>\n",
       "  </tbody>\n",
       "</table>\n",
       "</div>"
      ],
      "text/plain": [
       "                 channel_id     video_id  \\\n",
       "0  UC_lePY0Lm0E2-_IkYUWpI5A  EDt811lX6B4   \n",
       "1  UC_lePY0Lm0E2-_IkYUWpI5A  blXQZFGzAdA   \n",
       "2  UC_lePY0Lm0E2-_IkYUWpI5A  WM47-5hvtmA   \n",
       "3  UC_lePY0Lm0E2-_IkYUWpI5A  VycKHaHXlEc   \n",
       "4  UC_lePY0Lm0E2-_IkYUWpI5A  -9-U6BwLU7M   \n",
       "\n",
       "                                         video_title  \\\n",
       "0  Why you Should Keep Working on Harder (and Har...   \n",
       "1            How to Create Your Own Python Projects?   \n",
       "2  Why Start with Guided Projects? Learn Python t...   \n",
       "3                   Learn the Basic Syntax, Quickly!   \n",
       "4                   Why do You Want to Learn Python?   \n",
       "\n",
       "                                         description  \\\n",
       "0  Become a Python Pro! Take on Bigger Challenges...   \n",
       "1  After you’ve worked through a few structured p...   \n",
       "2  When it comes to guided projects, there is no ...   \n",
       "3  We know you can't wait to start your own proje...   \n",
       "4  Ever wondered why you should learn Python? Ste...   \n",
       "\n",
       "                                                tags  \\\n",
       "0                                                      \n",
       "1  learn python, learn to code, how to learn pyth...   \n",
       "2  learn python, learn to code, how to learn pyth...   \n",
       "3  learn python, learn to code, how to learn pyth...   \n",
       "4  how to learn programming language, learn progr...   \n",
       "\n",
       "                    published  view_count  like_count  favourite_count  \\\n",
       "0  2023-10-02 14:00:12.000000       414.0        21.0                0   \n",
       "1  2023-09-28 14:00:22.000000       676.0        26.0                0   \n",
       "2  2023-09-25 14:00:23.000000       301.0        14.0                0   \n",
       "3  2023-09-22 14:00:23.000000       404.0        13.0                0   \n",
       "4  2023-09-18 14:00:00.000000       586.0        28.0                0   \n",
       "\n",
       "   comment_count  duration definition caption  category_id  \n",
       "0            0.0        58         hd   false           27  \n",
       "1            0.0        32         hd   false           27  \n",
       "2            0.0        44         hd   false           27  \n",
       "3            0.0        27         hd   false           27  \n",
       "4            1.0        60         hd   false           27  "
      ]
     },
     "execution_count": 34,
     "metadata": {},
     "output_type": "execute_result"
    }
   ],
   "source": [
    "# Test database with simple query\n",
    "query = text(\"SELECT * FROM video\")\n",
    "test_df = pd.read_sql_query(query, conn)\n",
    "test_df.head()"
   ]
  },
  {
   "cell_type": "markdown",
   "metadata": {},
   "source": [
    "### Get comment for each video"
   ]
  },
  {
   "cell_type": "code",
   "execution_count": 30,
   "metadata": {},
   "outputs": [],
   "source": [
    "def get_comments_by_video_ids(youtube, video_ids):\n",
    "\n",
    "    all_comments = []\n",
    "    \n",
    "    for id in video_ids[:5]: # limit to 5 videos for testing\n",
    "        try:   \n",
    "            request = youtube.commentThreads().list(\n",
    "                part=\"snippet,replies\",\n",
    "                videoId=id,\n",
    "                maxResults=100,\n",
    "                order=\"relevance\",\n",
    "            )\n",
    "            response = request.execute()\n",
    "\n",
    "            for comment in response.get('items', []):\n",
    "                comment_data = {\n",
    "                    'video_id': comment['snippet']['videoId'],\n",
    "                    'comment_id': comment['snippet']['topLevelComment']['id'],\n",
    "                    'body': comment['snippet']['topLevelComment']['snippet']['textOriginal'],\n",
    "                    'comment_likes': comment['snippet']['topLevelComment']['snippet']['likeCount'],\n",
    "                    'comment_replies': comment['snippet']['totalReplyCount']\n",
    "                }\n",
    "\n",
    "                all_comments.append(comment_data)\n",
    "            \n",
    "        except: \n",
    "            # Handle if there are no comments for video\n",
    "            print(f'Failed to get comments for video id: {id}')\n",
    "\n",
    "    #return response    \n",
    "    return pd.DataFrame(all_comments)"
   ]
  },
  {
   "cell_type": "code",
   "execution_count": 33,
   "metadata": {},
   "outputs": [],
   "source": [
    "# Convert video_ids column to a list to pass to the API\n",
    "video_ids = videos_df['video_id'].tolist()\n",
    "\n",
    "comments_df = get_comments_by_video_ids(youtube, video_ids)"
   ]
  },
  {
   "cell_type": "code",
   "execution_count": 34,
   "metadata": {},
   "outputs": [
    {
     "data": {
      "text/html": [
       "<div>\n",
       "<style scoped>\n",
       "    .dataframe tbody tr th:only-of-type {\n",
       "        vertical-align: middle;\n",
       "    }\n",
       "\n",
       "    .dataframe tbody tr th {\n",
       "        vertical-align: top;\n",
       "    }\n",
       "\n",
       "    .dataframe thead th {\n",
       "        text-align: right;\n",
       "    }\n",
       "</style>\n",
       "<table border=\"1\" class=\"dataframe\">\n",
       "  <thead>\n",
       "    <tr style=\"text-align: right;\">\n",
       "      <th></th>\n",
       "      <th>video_id</th>\n",
       "      <th>comment_id</th>\n",
       "      <th>body</th>\n",
       "      <th>comment_likes</th>\n",
       "      <th>comment_replies</th>\n",
       "    </tr>\n",
       "  </thead>\n",
       "  <tbody>\n",
       "    <tr>\n",
       "      <th>0</th>\n",
       "      <td>H6kKmMB-LdQ</td>\n",
       "      <td>UgxRLIp2ZTtu2fQp9FR4AaABAg</td>\n",
       "      <td>Create your free ClickUp account here: https:/...</td>\n",
       "      <td>0</td>\n",
       "      <td>1</td>\n",
       "    </tr>\n",
       "    <tr>\n",
       "      <th>1</th>\n",
       "      <td>H6kKmMB-LdQ</td>\n",
       "      <td>UgwIg-QP4EidK4B0Rx94AaABAg</td>\n",
       "      <td>What about an updated desk set up tour?</td>\n",
       "      <td>0</td>\n",
       "      <td>0</td>\n",
       "    </tr>\n",
       "    <tr>\n",
       "      <th>2</th>\n",
       "      <td>H6kKmMB-LdQ</td>\n",
       "      <td>Ugzfwg6Q_1m5KtAiPw54AaABAg</td>\n",
       "      <td>This is amazing!</td>\n",
       "      <td>0</td>\n",
       "      <td>0</td>\n",
       "    </tr>\n",
       "    <tr>\n",
       "      <th>3</th>\n",
       "      <td>H6kKmMB-LdQ</td>\n",
       "      <td>Ugx_csBjo-76WzOjBr94AaABAg</td>\n",
       "      <td>Goede video Dave, thanks!</td>\n",
       "      <td>0</td>\n",
       "      <td>0</td>\n",
       "    </tr>\n",
       "    <tr>\n",
       "      <th>4</th>\n",
       "      <td>H6kKmMB-LdQ</td>\n",
       "      <td>Ugx3gUipt86ZAOJDEjl4AaABAg</td>\n",
       "      <td>Lets go!</td>\n",
       "      <td>0</td>\n",
       "      <td>0</td>\n",
       "    </tr>\n",
       "  </tbody>\n",
       "</table>\n",
       "</div>"
      ],
      "text/plain": [
       "      video_id                  comment_id  \\\n",
       "0  H6kKmMB-LdQ  UgxRLIp2ZTtu2fQp9FR4AaABAg   \n",
       "1  H6kKmMB-LdQ  UgwIg-QP4EidK4B0Rx94AaABAg   \n",
       "2  H6kKmMB-LdQ  Ugzfwg6Q_1m5KtAiPw54AaABAg   \n",
       "3  H6kKmMB-LdQ  Ugx_csBjo-76WzOjBr94AaABAg   \n",
       "4  H6kKmMB-LdQ  Ugx3gUipt86ZAOJDEjl4AaABAg   \n",
       "\n",
       "                                                body  comment_likes  \\\n",
       "0  Create your free ClickUp account here: https:/...              0   \n",
       "1            What about an updated desk set up tour?              0   \n",
       "2                                   This is amazing!              0   \n",
       "3                          Goede video Dave, thanks!              0   \n",
       "4                                           Lets go!              0   \n",
       "\n",
       "   comment_replies  \n",
       "0                1  \n",
       "1                0  \n",
       "2                0  \n",
       "3                0  \n",
       "4                0  "
      ]
     },
     "execution_count": 34,
     "metadata": {},
     "output_type": "execute_result"
    }
   ],
   "source": [
    "comments_df.head()"
   ]
  },
  {
   "cell_type": "code",
   "execution_count": 35,
   "metadata": {},
   "outputs": [
    {
     "data": {
      "text/plain": [
       "56"
      ]
     },
     "execution_count": 35,
     "metadata": {},
     "output_type": "execute_result"
    }
   ],
   "source": [
    "# Push df to database\n",
    "comments_df.to_sql(name=\"comment\", con=engine, if_exists='append', index=False)"
   ]
  },
  {
   "cell_type": "code",
   "execution_count": 221,
   "metadata": {},
   "outputs": [],
   "source": [
    "# Close the connection\n",
    "conn.close()\n",
    "engine.dispose()"
   ]
  }
 ],
 "metadata": {
  "kernelspec": {
   "display_name": "Python 3",
   "language": "python",
   "name": "python3"
  },
  "language_info": {
   "codemirror_mode": {
    "name": "ipython",
    "version": 3
   },
   "file_extension": ".py",
   "mimetype": "text/x-python",
   "name": "python",
   "nbconvert_exporter": "python",
   "pygments_lexer": "ipython3",
   "version": "3.11.0"
  }
 },
 "nbformat": 4,
 "nbformat_minor": 2
}
