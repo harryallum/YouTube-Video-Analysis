{
 "cells": [
  {
   "cell_type": "code",
   "execution_count": 1,
   "metadata": {},
   "outputs": [],
   "source": [
    "import pandas as pd\n",
    "import os\n",
    "from googleapiclient.discovery import build\n",
    "from IPython.display import JSON\n",
    "import isodate\n",
    "from sqlalchemy import create_engine, MetaData, Table, Column, Integer, String, DateTime, text, ForeignKey"
   ]
  },
  {
   "cell_type": "markdown",
   "metadata": {},
   "source": [
    "### YouTube API credentials"
   ]
  },
  {
   "cell_type": "code",
   "execution_count": 2,
   "metadata": {},
   "outputs": [],
   "source": [
    "YOUTUBE_API_KEY = os.getenv(\"YOUTUBE_API_KEY\")"
   ]
  },
  {
   "cell_type": "code",
   "execution_count": 3,
   "metadata": {},
   "outputs": [],
   "source": [
    "api_service_name = \"youtube\"\n",
    "api_version = \"v3\"\n",
    "\n",
    "# Get credentials and create an API client\n",
    "youtube = build(\n",
    "    api_service_name, api_version, developerKey=YOUTUBE_API_KEY)"
   ]
  },
  {
   "cell_type": "markdown",
   "metadata": {},
   "source": [
    "### Import channel IDs from CSV"
   ]
  },
  {
   "cell_type": "code",
   "execution_count": 4,
   "metadata": {},
   "outputs": [],
   "source": [
    "# File path for CSV import\n",
    "csv_file_path = 'channels/channel_ids.csv'\n",
    "\n",
    "# Read channel IDs from CSV file into a list\n",
    "df = pd.read_csv(csv_file_path, header=None)\n",
    "channel_ids = df[0].tolist()"
   ]
  },
  {
   "cell_type": "markdown",
   "metadata": {},
   "source": [
    "### Function to return channel details"
   ]
  },
  {
   "cell_type": "code",
   "execution_count": 5,
   "metadata": {},
   "outputs": [],
   "source": [
    "def get_channel_stats(youtube, channel_ids):\n",
    "    all_data = []\n",
    "\n",
    "    try:\n",
    "        # Split channel_ids list into chunks of up to 50 ids each\n",
    "        id_chunks = [channel_ids[i:i+50] for i in range(0, len(channel_ids), 50)]\n",
    "\n",
    "        for id_chunk in id_chunks:\n",
    "            request = youtube.channels().list(\n",
    "                part='snippet,contentDetails,statistics',\n",
    "                id=','.join(id_chunk)\n",
    "            )\n",
    "            response = request.execute()\n",
    "\n",
    "            for item in response.get('items', []):\n",
    "                data = {\n",
    "                    'channel_name': item['snippet']['title'],\n",
    "                    'channel_id': item['id'],\n",
    "                    'subscriber_count': item['statistics']['subscriberCount'],\n",
    "                    'view_count': item['statistics']['viewCount'],\n",
    "                    'video_count': item['statistics']['videoCount'],\n",
    "                    'playlist_id': item['contentDetails']['relatedPlaylists']['uploads'],\n",
    "                    'start_date': item['snippet']['publishedAt'],\n",
    "                    'country': item['snippet']['country'],  \n",
    "                }\n",
    "                all_data.append(data)\n",
    "    except Exception as e:\n",
    "        print(f\"Error occurred: {e}\")\n",
    "\n",
    "    return pd.DataFrame(all_data)"
   ]
  },
  {
   "cell_type": "markdown",
   "metadata": {},
   "source": [
    "### Get channel data"
   ]
  },
  {
   "cell_type": "code",
   "execution_count": 6,
   "metadata": {},
   "outputs": [],
   "source": [
    "channels_df = get_channel_stats(youtube, channel_ids)"
   ]
  },
  {
   "cell_type": "markdown",
   "metadata": {},
   "source": [
    "### Covert start date to dt format"
   ]
  },
  {
   "cell_type": "code",
   "execution_count": 7,
   "metadata": {},
   "outputs": [],
   "source": [
    "channels_df['start_date'] = pd.to_datetime(channels_df['start_date']).dt.date"
   ]
  },
  {
   "cell_type": "code",
   "execution_count": 8,
   "metadata": {},
   "outputs": [
    {
     "data": {
      "text/html": [
       "<div>\n",
       "<style scoped>\n",
       "    .dataframe tbody tr th:only-of-type {\n",
       "        vertical-align: middle;\n",
       "    }\n",
       "\n",
       "    .dataframe tbody tr th {\n",
       "        vertical-align: top;\n",
       "    }\n",
       "\n",
       "    .dataframe thead th {\n",
       "        text-align: right;\n",
       "    }\n",
       "</style>\n",
       "<table border=\"1\" class=\"dataframe\">\n",
       "  <thead>\n",
       "    <tr style=\"text-align: right;\">\n",
       "      <th></th>\n",
       "      <th>channel_name</th>\n",
       "      <th>channel_id</th>\n",
       "      <th>subscriber_count</th>\n",
       "      <th>view_count</th>\n",
       "      <th>video_count</th>\n",
       "      <th>playlist_id</th>\n",
       "      <th>start_date</th>\n",
       "      <th>country</th>\n",
       "    </tr>\n",
       "  </thead>\n",
       "  <tbody>\n",
       "    <tr>\n",
       "      <th>0</th>\n",
       "      <td>Exaltitude</td>\n",
       "      <td>UCelp2mfpa0fors7HePAodoA</td>\n",
       "      <td>17200</td>\n",
       "      <td>771666</td>\n",
       "      <td>64</td>\n",
       "      <td>UUelp2mfpa0fors7HePAodoA</td>\n",
       "      <td>2021-05-18</td>\n",
       "      <td>US</td>\n",
       "    </tr>\n",
       "    <tr>\n",
       "      <th>1</th>\n",
       "      <td>NeuralNine</td>\n",
       "      <td>UC8wZnXYK_CGKlBcZp-GxYPA</td>\n",
       "      <td>304000</td>\n",
       "      <td>22938962</td>\n",
       "      <td>695</td>\n",
       "      <td>UU8wZnXYK_CGKlBcZp-GxYPA</td>\n",
       "      <td>2019-04-04</td>\n",
       "      <td>AT</td>\n",
       "    </tr>\n",
       "    <tr>\n",
       "      <th>2</th>\n",
       "      <td>Simple LEARN</td>\n",
       "      <td>UCUb5LzgHU7nXT9Dbpt-EQjw</td>\n",
       "      <td>2</td>\n",
       "      <td>69</td>\n",
       "      <td>2</td>\n",
       "      <td>UUUb5LzgHU7nXT9Dbpt-EQjw</td>\n",
       "      <td>2023-02-20</td>\n",
       "      <td>IN</td>\n",
       "    </tr>\n",
       "    <tr>\n",
       "      <th>3</th>\n",
       "      <td>Dave Ebbelaar</td>\n",
       "      <td>UCn8ujwUInbJkBhffxqAPBVQ</td>\n",
       "      <td>59500</td>\n",
       "      <td>2133127</td>\n",
       "      <td>62</td>\n",
       "      <td>UUn8ujwUInbJkBhffxqAPBVQ</td>\n",
       "      <td>2012-07-01</td>\n",
       "      <td>NL</td>\n",
       "    </tr>\n",
       "  </tbody>\n",
       "</table>\n",
       "</div>"
      ],
      "text/plain": [
       "    channel_name                channel_id subscriber_count view_count  \\\n",
       "0     Exaltitude  UCelp2mfpa0fors7HePAodoA            17200     771666   \n",
       "1     NeuralNine  UC8wZnXYK_CGKlBcZp-GxYPA           304000   22938962   \n",
       "2   Simple LEARN  UCUb5LzgHU7nXT9Dbpt-EQjw                2         69   \n",
       "3  Dave Ebbelaar  UCn8ujwUInbJkBhffxqAPBVQ            59500    2133127   \n",
       "\n",
       "  video_count               playlist_id  start_date country  \n",
       "0          64  UUelp2mfpa0fors7HePAodoA  2021-05-18      US  \n",
       "1         695  UU8wZnXYK_CGKlBcZp-GxYPA  2019-04-04      AT  \n",
       "2           2  UUUb5LzgHU7nXT9Dbpt-EQjw  2023-02-20      IN  \n",
       "3          62  UUn8ujwUInbJkBhffxqAPBVQ  2012-07-01      NL  "
      ]
     },
     "execution_count": 8,
     "metadata": {},
     "output_type": "execute_result"
    }
   ],
   "source": [
    "channels_df.head()"
   ]
  },
  {
   "cell_type": "markdown",
   "metadata": {},
   "source": [
    "## Export channel data to database"
   ]
  },
  {
   "cell_type": "code",
   "execution_count": 45,
   "metadata": {},
   "outputs": [],
   "source": [
    "db_string = 'sqlite:///database/youtube.db'\n",
    "\n",
    "# Create a engine\n",
    "engine = create_engine(db_string)\n",
    "\n",
    "# Create a MetaData object\n",
    "metadata_obj = MetaData()\n",
    "\n",
    "# Define the 'channel' table\n",
    "channel_table = Table(\n",
    "    'channel',\n",
    "    metadata_obj,\n",
    "    Column('channel_id', String, primary_key=True),\n",
    "    Column('channel_name', String),\n",
    "    Column('subscriber_count', Integer),\n",
    "    Column('view_count', Integer),\n",
    "    Column('video_count', Integer),\n",
    "    Column('playlist_id', String),\n",
    "    Column('start_date', DateTime),\n",
    "    Column('country', String),\n",
    ")"
   ]
  },
  {
   "cell_type": "code",
   "execution_count": 46,
   "metadata": {},
   "outputs": [],
   "source": [
    "# Create connection\n",
    "conn = engine.connect()\n",
    "\n",
    "# Create all tables in the database\n",
    "metadata_obj.create_all(engine)"
   ]
  },
  {
   "cell_type": "code",
   "execution_count": 47,
   "metadata": {},
   "outputs": [
    {
     "data": {
      "text/plain": [
       "4"
      ]
     },
     "execution_count": 47,
     "metadata": {},
     "output_type": "execute_result"
    }
   ],
   "source": [
    "# Push df to database\n",
    "channels_df.to_sql(\"channel\", engine, if_exists='append', index=False)"
   ]
  },
  {
   "cell_type": "code",
   "execution_count": 35,
   "metadata": {},
   "outputs": [
    {
     "data": {
      "text/html": [
       "<div>\n",
       "<style scoped>\n",
       "    .dataframe tbody tr th:only-of-type {\n",
       "        vertical-align: middle;\n",
       "    }\n",
       "\n",
       "    .dataframe tbody tr th {\n",
       "        vertical-align: top;\n",
       "    }\n",
       "\n",
       "    .dataframe thead th {\n",
       "        text-align: right;\n",
       "    }\n",
       "</style>\n",
       "<table border=\"1\" class=\"dataframe\">\n",
       "  <thead>\n",
       "    <tr style=\"text-align: right;\">\n",
       "      <th></th>\n",
       "      <th>channel_id</th>\n",
       "      <th>channel_name</th>\n",
       "      <th>subscriber_count</th>\n",
       "      <th>view_count</th>\n",
       "      <th>video_count</th>\n",
       "      <th>playlist_id</th>\n",
       "      <th>start_date</th>\n",
       "      <th>country</th>\n",
       "    </tr>\n",
       "  </thead>\n",
       "  <tbody>\n",
       "    <tr>\n",
       "      <th>0</th>\n",
       "      <td>UCUb5LzgHU7nXT9Dbpt-EQjw</td>\n",
       "      <td>Simple LEARN</td>\n",
       "      <td>2</td>\n",
       "      <td>69</td>\n",
       "      <td>2</td>\n",
       "      <td>UUUb5LzgHU7nXT9Dbpt-EQjw</td>\n",
       "      <td>2023-02-20</td>\n",
       "      <td>IN</td>\n",
       "    </tr>\n",
       "    <tr>\n",
       "      <th>1</th>\n",
       "      <td>UCn8ujwUInbJkBhffxqAPBVQ</td>\n",
       "      <td>Dave Ebbelaar</td>\n",
       "      <td>59500</td>\n",
       "      <td>2133127</td>\n",
       "      <td>62</td>\n",
       "      <td>UUn8ujwUInbJkBhffxqAPBVQ</td>\n",
       "      <td>2012-07-01</td>\n",
       "      <td>NL</td>\n",
       "    </tr>\n",
       "    <tr>\n",
       "      <th>2</th>\n",
       "      <td>UC8wZnXYK_CGKlBcZp-GxYPA</td>\n",
       "      <td>NeuralNine</td>\n",
       "      <td>304000</td>\n",
       "      <td>22938962</td>\n",
       "      <td>695</td>\n",
       "      <td>UU8wZnXYK_CGKlBcZp-GxYPA</td>\n",
       "      <td>2019-04-04</td>\n",
       "      <td>AT</td>\n",
       "    </tr>\n",
       "    <tr>\n",
       "      <th>3</th>\n",
       "      <td>UCelp2mfpa0fors7HePAodoA</td>\n",
       "      <td>Exaltitude</td>\n",
       "      <td>17200</td>\n",
       "      <td>771666</td>\n",
       "      <td>64</td>\n",
       "      <td>UUelp2mfpa0fors7HePAodoA</td>\n",
       "      <td>2021-05-18</td>\n",
       "      <td>US</td>\n",
       "    </tr>\n",
       "  </tbody>\n",
       "</table>\n",
       "</div>"
      ],
      "text/plain": [
       "                 channel_id   channel_name  subscriber_count  view_count  \\\n",
       "0  UCUb5LzgHU7nXT9Dbpt-EQjw   Simple LEARN                 2          69   \n",
       "1  UCn8ujwUInbJkBhffxqAPBVQ  Dave Ebbelaar             59500     2133127   \n",
       "2  UC8wZnXYK_CGKlBcZp-GxYPA     NeuralNine            304000    22938962   \n",
       "3  UCelp2mfpa0fors7HePAodoA     Exaltitude             17200      771666   \n",
       "\n",
       "   video_count               playlist_id  start_date country  \n",
       "0            2  UUUb5LzgHU7nXT9Dbpt-EQjw  2023-02-20      IN  \n",
       "1           62  UUn8ujwUInbJkBhffxqAPBVQ  2012-07-01      NL  \n",
       "2          695  UU8wZnXYK_CGKlBcZp-GxYPA  2019-04-04      AT  \n",
       "3           64  UUelp2mfpa0fors7HePAodoA  2021-05-18      US  "
      ]
     },
     "execution_count": 35,
     "metadata": {},
     "output_type": "execute_result"
    }
   ],
   "source": [
    "# Test database with simple query\n",
    "query = text('SELECT * FROM channel')\n",
    "test_df = pd.read_sql_query(query, conn)\n",
    "test_df.head()"
   ]
  },
  {
   "cell_type": "markdown",
   "metadata": {},
   "source": [
    "### Get all video ids from a channel"
   ]
  },
  {
   "cell_type": "code",
   "execution_count": 14,
   "metadata": {},
   "outputs": [],
   "source": [
    "def get_video_ids(youtube, playlist_id):\n",
    "\n",
    "    video_ids = []\n",
    "\n",
    "    try:\n",
    "        # Initial request for the first page of videos\n",
    "        request = youtube.playlistItems().list(\n",
    "            part='contentDetails',\n",
    "            playlistId=playlist_id,\n",
    "            maxResults=50\n",
    "        )\n",
    "        response = request.execute()\n",
    "\n",
    "        # Extract video IDs from the first page of response\n",
    "        for item in response.get('items', []):\n",
    "            video_ids.append(item['contentDetails']['videoId'])\n",
    "\n",
    "        # Fetch additional pages of videos, if available\n",
    "        while 'nextPageToken' in response:\n",
    "            request = youtube.playlistItems().list(\n",
    "                part='contentDetails',\n",
    "                playlistId=playlist_id,\n",
    "                maxResults=50,\n",
    "                pageToken=response['nextPageToken']\n",
    "            )\n",
    "            response = request.execute()\n",
    "\n",
    "            # Extract video IDs from the current page of response\n",
    "            for item in response.get('items', []):\n",
    "                video_ids.append(item['contentDetails']['videoId'])\n",
    "    except Exception as e:\n",
    "        print(f\"Error occurred: {e}\")\n",
    "\n",
    "    return video_ids"
   ]
  },
  {
   "cell_type": "markdown",
   "metadata": {},
   "source": [
    "### Get video details for video IDs"
   ]
  },
  {
   "cell_type": "code",
   "execution_count": 15,
   "metadata": {},
   "outputs": [],
   "source": [
    "def get_video_details(youtube, video_ids):\n",
    "\n",
    "    all_video_info = []\n",
    "\n",
    "    try:\n",
    "        # Split video_ids list into chunks of up to 50 IDs each\n",
    "        id_chunks = [video_ids[i:i+50] for i in range(0, len(video_ids), 50)]\n",
    "\n",
    "        for id_chunk in id_chunks:\n",
    "            request = youtube.videos().list(\n",
    "                part=\"snippet,contentDetails,statistics\",\n",
    "                id=','.join(id_chunk)\n",
    "            )\n",
    "            response = request.execute()\n",
    "\n",
    "            for video in response.get('items', []):\n",
    "                video_info = {\n",
    "                    'channel_id': video['snippet']['channelId'],\n",
    "                    'video_id': video['id'],\n",
    "                    'video_title': video['snippet']['title'],\n",
    "                    'description': video['snippet']['description'],\n",
    "                    'tags': video['snippet'].get('tags', []),\n",
    "                    'published': video['snippet']['publishedAt'],\n",
    "                    'view_count': video['statistics'].get('viewCount', None),\n",
    "                    'like_count': video['statistics'].get('likeCount', None),\n",
    "                    'favourite_count': video['statistics'].get('favoriteCount', None),\n",
    "                    'comment_count': video['statistics'].get('commentCount', None),\n",
    "                    'duration': video['contentDetails'].get('duration', None),\n",
    "                    'definition': video['contentDetails'].get('definition', None),\n",
    "                    'caption': video['contentDetails'].get('caption', None),\n",
    "                    'category_id': video['snippet'].get('categoryId', None),\n",
    "                }\n",
    "                all_video_info.append(video_info)\n",
    "    except Exception as e:\n",
    "        print(f\"Error occurred: {e}\")\n",
    "\n",
    "    return pd.DataFrame(all_video_info)\n"
   ]
  },
  {
   "cell_type": "markdown",
   "metadata": {},
   "source": [
    "### Get video data for each channel"
   ]
  },
  {
   "cell_type": "code",
   "execution_count": 16,
   "metadata": {},
   "outputs": [],
   "source": [
    "videos_df = pd.DataFrame()\n",
    "\n",
    "for channel in channels_df['channel_name']:\n",
    "    # Get playlist id for channel\n",
    "    playlist_id = channels_df.loc[channels_df['channel_name'] == channel, 'playlist_id'].iloc[0]\n",
    "    # Get all video ids for channel\n",
    "    video_ids = get_video_ids(youtube, playlist_id)\n",
    "    # Get video data for each video\n",
    "    video_data = get_video_details(youtube, video_ids)\n",
    "\n",
    "    # Concat to main df\n",
    "    videos_df = pd.concat([videos_df, video_data], ignore_index=True)"
   ]
  },
  {
   "cell_type": "markdown",
   "metadata": {},
   "source": [
    "### Convert dates to dt"
   ]
  },
  {
   "cell_type": "code",
   "execution_count": 17,
   "metadata": {},
   "outputs": [],
   "source": [
    "videos_df['published'] = pd.to_datetime(videos_df['published'])"
   ]
  },
  {
   "cell_type": "markdown",
   "metadata": {},
   "source": [
    "### Covert duration to seconds using ISODATE"
   ]
  },
  {
   "cell_type": "code",
   "execution_count": 18,
   "metadata": {},
   "outputs": [],
   "source": [
    "def duration_to_seconds(duration_str):\n",
    "    duration = isodate.parse_duration(duration_str)\n",
    "    total_seconds = duration.total_seconds()\n",
    "    return int(total_seconds)"
   ]
  },
  {
   "cell_type": "code",
   "execution_count": 19,
   "metadata": {},
   "outputs": [],
   "source": [
    "videos_df['duration'] = videos_df['duration'].apply(duration_to_seconds)"
   ]
  },
  {
   "cell_type": "markdown",
   "metadata": {},
   "source": [
    "### Drop videos less than 120 and more than 1800 seconds"
   ]
  },
  {
   "cell_type": "code",
   "execution_count": 20,
   "metadata": {},
   "outputs": [],
   "source": [
    "videos_df = videos_df[(videos_df['duration'] >= 60) & (videos_df['duration'] <= 1800)]\n",
    "# Reset the index\n",
    "videos_df = videos_df.reset_index(drop=True)"
   ]
  },
  {
   "cell_type": "markdown",
   "metadata": {},
   "source": [
    "### Convert tag list to string"
   ]
  },
  {
   "cell_type": "code",
   "execution_count": 21,
   "metadata": {},
   "outputs": [],
   "source": [
    "videos_df['tags'] = videos_df['tags'].apply(', '.join)"
   ]
  },
  {
   "cell_type": "code",
   "execution_count": 41,
   "metadata": {},
   "outputs": [
    {
     "data": {
      "text/html": [
       "<div>\n",
       "<style scoped>\n",
       "    .dataframe tbody tr th:only-of-type {\n",
       "        vertical-align: middle;\n",
       "    }\n",
       "\n",
       "    .dataframe tbody tr th {\n",
       "        vertical-align: top;\n",
       "    }\n",
       "\n",
       "    .dataframe thead th {\n",
       "        text-align: right;\n",
       "    }\n",
       "</style>\n",
       "<table border=\"1\" class=\"dataframe\">\n",
       "  <thead>\n",
       "    <tr style=\"text-align: right;\">\n",
       "      <th></th>\n",
       "      <th>channel_id</th>\n",
       "      <th>video_id</th>\n",
       "      <th>video_title</th>\n",
       "      <th>description</th>\n",
       "      <th>tags</th>\n",
       "      <th>published</th>\n",
       "      <th>view_count</th>\n",
       "      <th>like_count</th>\n",
       "      <th>favourite_count</th>\n",
       "      <th>comment_count</th>\n",
       "      <th>duration</th>\n",
       "      <th>definition</th>\n",
       "      <th>caption</th>\n",
       "      <th>category_id</th>\n",
       "    </tr>\n",
       "  </thead>\n",
       "  <tbody>\n",
       "    <tr>\n",
       "      <th>709</th>\n",
       "      <td>UCelp2mfpa0fors7HePAodoA</td>\n",
       "      <td>yaaa7U3qmL0</td>\n",
       "      <td>Secret to Landing a Software Engineering Job</td>\n",
       "      <td>📎 Resources\\n==============\\n✅ FREE ATS-Friend...</td>\n",
       "      <td>How to land a dream job, Software engineer dre...</td>\n",
       "      <td>2023-05-02 01:00:33+00:00</td>\n",
       "      <td>856</td>\n",
       "      <td>57</td>\n",
       "      <td>0</td>\n",
       "      <td>1</td>\n",
       "      <td>76</td>\n",
       "      <td>hd</td>\n",
       "      <td>false</td>\n",
       "      <td>27</td>\n",
       "    </tr>\n",
       "    <tr>\n",
       "      <th>710</th>\n",
       "      <td>UCelp2mfpa0fors7HePAodoA</td>\n",
       "      <td>4Amf5FsnvOQ</td>\n",
       "      <td>LinkedIn Cold Outreach Template: Job Hunting a...</td>\n",
       "      <td>Template:\\nHi [Name], I came across your profi...</td>\n",
       "      <td>Cold outreach, Exaltitude, Job search tips, Li...</td>\n",
       "      <td>2023-04-30 17:29:20+00:00</td>\n",
       "      <td>1130</td>\n",
       "      <td>85</td>\n",
       "      <td>0</td>\n",
       "      <td>8</td>\n",
       "      <td>60</td>\n",
       "      <td>hd</td>\n",
       "      <td>false</td>\n",
       "      <td>27</td>\n",
       "    </tr>\n",
       "    <tr>\n",
       "      <th>711</th>\n",
       "      <td>UCelp2mfpa0fors7HePAodoA</td>\n",
       "      <td>4Dhc-Ji4O08</td>\n",
       "      <td>Which Software Engineer Job Gets Highest Salary</td>\n",
       "      <td>📎 Resources\\n==============\\n✅ The full fyi re...</td>\n",
       "      <td>Best paying tech employers, Exaltitude, High p...</td>\n",
       "      <td>2023-04-19 17:24:14+00:00</td>\n",
       "      <td>2960</td>\n",
       "      <td>146</td>\n",
       "      <td>0</td>\n",
       "      <td>10</td>\n",
       "      <td>619</td>\n",
       "      <td>hd</td>\n",
       "      <td>false</td>\n",
       "      <td>27</td>\n",
       "    </tr>\n",
       "    <tr>\n",
       "      <th>712</th>\n",
       "      <td>UCelp2mfpa0fors7HePAodoA</td>\n",
       "      <td>UnT0iQkZJvE</td>\n",
       "      <td>Resume Review from your Hiring Manager</td>\n",
       "      <td>Resources\\n==============\\n👉 FREE ATS-Friendly...</td>\n",
       "      <td>Application tracking system, Junior software e...</td>\n",
       "      <td>2023-04-05 21:49:11+00:00</td>\n",
       "      <td>3866</td>\n",
       "      <td>161</td>\n",
       "      <td>0</td>\n",
       "      <td>6</td>\n",
       "      <td>515</td>\n",
       "      <td>hd</td>\n",
       "      <td>false</td>\n",
       "      <td>27</td>\n",
       "    </tr>\n",
       "    <tr>\n",
       "      <th>713</th>\n",
       "      <td>UCelp2mfpa0fors7HePAodoA</td>\n",
       "      <td>Rf5tJna0CPU</td>\n",
       "      <td>Can Your Engineering Resume Get You Noticed? H...</td>\n",
       "      <td>Download the resume checklist - https://mailch...</td>\n",
       "      <td>Application tracking system, applicant trackin...</td>\n",
       "      <td>2021-06-01 20:21:55+00:00</td>\n",
       "      <td>638</td>\n",
       "      <td>11</td>\n",
       "      <td>0</td>\n",
       "      <td>2</td>\n",
       "      <td>492</td>\n",
       "      <td>hd</td>\n",
       "      <td>false</td>\n",
       "      <td>22</td>\n",
       "    </tr>\n",
       "  </tbody>\n",
       "</table>\n",
       "</div>"
      ],
      "text/plain": [
       "                   channel_id     video_id  \\\n",
       "709  UCelp2mfpa0fors7HePAodoA  yaaa7U3qmL0   \n",
       "710  UCelp2mfpa0fors7HePAodoA  4Amf5FsnvOQ   \n",
       "711  UCelp2mfpa0fors7HePAodoA  4Dhc-Ji4O08   \n",
       "712  UCelp2mfpa0fors7HePAodoA  UnT0iQkZJvE   \n",
       "713  UCelp2mfpa0fors7HePAodoA  Rf5tJna0CPU   \n",
       "\n",
       "                                           video_title  \\\n",
       "709       Secret to Landing a Software Engineering Job   \n",
       "710  LinkedIn Cold Outreach Template: Job Hunting a...   \n",
       "711    Which Software Engineer Job Gets Highest Salary   \n",
       "712             Resume Review from your Hiring Manager   \n",
       "713  Can Your Engineering Resume Get You Noticed? H...   \n",
       "\n",
       "                                           description  \\\n",
       "709  📎 Resources\\n==============\\n✅ FREE ATS-Friend...   \n",
       "710  Template:\\nHi [Name], I came across your profi...   \n",
       "711  📎 Resources\\n==============\\n✅ The full fyi re...   \n",
       "712  Resources\\n==============\\n👉 FREE ATS-Friendly...   \n",
       "713  Download the resume checklist - https://mailch...   \n",
       "\n",
       "                                                  tags  \\\n",
       "709  How to land a dream job, Software engineer dre...   \n",
       "710  Cold outreach, Exaltitude, Job search tips, Li...   \n",
       "711  Best paying tech employers, Exaltitude, High p...   \n",
       "712  Application tracking system, Junior software e...   \n",
       "713  Application tracking system, applicant trackin...   \n",
       "\n",
       "                    published view_count like_count favourite_count  \\\n",
       "709 2023-05-02 01:00:33+00:00        856         57               0   \n",
       "710 2023-04-30 17:29:20+00:00       1130         85               0   \n",
       "711 2023-04-19 17:24:14+00:00       2960        146               0   \n",
       "712 2023-04-05 21:49:11+00:00       3866        161               0   \n",
       "713 2021-06-01 20:21:55+00:00        638         11               0   \n",
       "\n",
       "    comment_count  duration definition caption category_id  \n",
       "709             1        76         hd   false          27  \n",
       "710             8        60         hd   false          27  \n",
       "711            10       619         hd   false          27  \n",
       "712             6       515         hd   false          27  \n",
       "713             2       492         hd   false          22  "
      ]
     },
     "execution_count": 41,
     "metadata": {},
     "output_type": "execute_result"
    }
   ],
   "source": [
    "videos_df.tail()"
   ]
  },
  {
   "cell_type": "markdown",
   "metadata": {},
   "source": [
    "### Export video df to csv"
   ]
  },
  {
   "cell_type": "code",
   "execution_count": 48,
   "metadata": {},
   "outputs": [],
   "source": [
    "# Define the 'video' table\n",
    "video_table = Table(\n",
    "    'video',\n",
    "    metadata_obj,\n",
    "    Column('channel_id', ForeignKey(\"channel.channel_id\")),\n",
    "    Column('video_id', String, primary_key=True),\n",
    "    Column('video_title', String),\n",
    "    Column('description', String),\n",
    "    Column('tags', String),\n",
    "    Column('published', DateTime),\n",
    "    Column('view_count', Integer),\n",
    "    Column('like_count', Integer),\n",
    "    Column('favourite_count', Integer),\n",
    "    Column('comment_count', Integer),\n",
    "    Column('duration', Integer),\n",
    "    Column('definition', String),\n",
    "    Column('caption', String),\n",
    "    Column('category_id', Integer),\n",
    ")\n",
    "\n",
    "# Create all tables in the database\n",
    "metadata_obj.create_all(engine)"
   ]
  },
  {
   "cell_type": "code",
   "execution_count": 49,
   "metadata": {},
   "outputs": [
    {
     "data": {
      "text/plain": [
       "714"
      ]
     },
     "execution_count": 49,
     "metadata": {},
     "output_type": "execute_result"
    }
   ],
   "source": [
    "# Push df to database\n",
    "videos_df.to_sql(name=\"video\", con=engine, if_exists='append', index=False)"
   ]
  },
  {
   "cell_type": "code",
   "execution_count": 43,
   "metadata": {},
   "outputs": [
    {
     "data": {
      "text/html": [
       "<div>\n",
       "<style scoped>\n",
       "    .dataframe tbody tr th:only-of-type {\n",
       "        vertical-align: middle;\n",
       "    }\n",
       "\n",
       "    .dataframe tbody tr th {\n",
       "        vertical-align: top;\n",
       "    }\n",
       "\n",
       "    .dataframe thead th {\n",
       "        text-align: right;\n",
       "    }\n",
       "</style>\n",
       "<table border=\"1\" class=\"dataframe\">\n",
       "  <thead>\n",
       "    <tr style=\"text-align: right;\">\n",
       "      <th></th>\n",
       "      <th>channel_id</th>\n",
       "      <th>video_id</th>\n",
       "      <th>video_title</th>\n",
       "      <th>description</th>\n",
       "      <th>tags</th>\n",
       "      <th>published</th>\n",
       "      <th>view_count</th>\n",
       "      <th>like_count</th>\n",
       "      <th>favourite_count</th>\n",
       "      <th>comment_count</th>\n",
       "      <th>duration</th>\n",
       "      <th>definition</th>\n",
       "      <th>caption</th>\n",
       "      <th>category_id</th>\n",
       "    </tr>\n",
       "  </thead>\n",
       "  <tbody>\n",
       "    <tr>\n",
       "      <th>0</th>\n",
       "      <td>UCUb5LzgHU7nXT9Dbpt-EQjw</td>\n",
       "      <td>w-tJy1Y71Zs</td>\n",
       "      <td>अणुभार की परिभाषा। अणुभार कैस ज्ञात करें। How ...</td>\n",
       "      <td>Hello friends \\nऐसे ही basic information, basi...</td>\n",
       "      <td>#Simplelearn</td>\n",
       "      <td>2023-02-21 13:43:00.000000</td>\n",
       "      <td>29</td>\n",
       "      <td>4</td>\n",
       "      <td>0</td>\n",
       "      <td>0</td>\n",
       "      <td>125</td>\n",
       "      <td>hd</td>\n",
       "      <td>false</td>\n",
       "      <td>27</td>\n",
       "    </tr>\n",
       "    <tr>\n",
       "      <th>1</th>\n",
       "      <td>UCn8ujwUInbJkBhffxqAPBVQ</td>\n",
       "      <td>H6kKmMB-LdQ</td>\n",
       "      <td>Introducing ClickUp Brain (this is huge for devs)</td>\n",
       "      <td>In this video, we dive into ClickUp's new \"Bra...</td>\n",
       "      <td>data science, python, machine learning, vscode...</td>\n",
       "      <td>2024-01-27 15:45:19.000000</td>\n",
       "      <td>1985</td>\n",
       "      <td>72</td>\n",
       "      <td>0</td>\n",
       "      <td>18</td>\n",
       "      <td>533</td>\n",
       "      <td>hd</td>\n",
       "      <td>false</td>\n",
       "      <td>27</td>\n",
       "    </tr>\n",
       "    <tr>\n",
       "      <th>2</th>\n",
       "      <td>UCn8ujwUInbJkBhffxqAPBVQ</td>\n",
       "      <td>OEPte4cG3Fk</td>\n",
       "      <td>Easiest Way to Connect AI Chatbots to WhatsApp</td>\n",
       "      <td>Let's build an AI chatbot with Botpress and co...</td>\n",
       "      <td>data science, python, machine learning, vscode...</td>\n",
       "      <td>2024-01-17 14:00:15.000000</td>\n",
       "      <td>4500</td>\n",
       "      <td>162</td>\n",
       "      <td>0</td>\n",
       "      <td>20</td>\n",
       "      <td>1602</td>\n",
       "      <td>hd</td>\n",
       "      <td>false</td>\n",
       "      <td>27</td>\n",
       "    </tr>\n",
       "    <tr>\n",
       "      <th>3</th>\n",
       "      <td>UCn8ujwUInbJkBhffxqAPBVQ</td>\n",
       "      <td>_DAG-OH0wyc</td>\n",
       "      <td>All The Apps I Use On My New M3 MacBook (as a ...</td>\n",
       "      <td>Let's go over all the apps that I installed on...</td>\n",
       "      <td>data science, python, machine learning, vscode...</td>\n",
       "      <td>2024-01-06 19:21:37.000000</td>\n",
       "      <td>2765</td>\n",
       "      <td>99</td>\n",
       "      <td>0</td>\n",
       "      <td>22</td>\n",
       "      <td>1749</td>\n",
       "      <td>hd</td>\n",
       "      <td>false</td>\n",
       "      <td>27</td>\n",
       "    </tr>\n",
       "    <tr>\n",
       "      <th>4</th>\n",
       "      <td>UCn8ujwUInbJkBhffxqAPBVQ</td>\n",
       "      <td>Ff3tJ4pJEa4</td>\n",
       "      <td>PostgreSQL as VectorDB - Beginner Tutorial</td>\n",
       "      <td>In this video, I explain why I recently switch...</td>\n",
       "      <td>data science, python, machine learning, vscode...</td>\n",
       "      <td>2023-12-21 15:57:34.000000</td>\n",
       "      <td>4417</td>\n",
       "      <td>191</td>\n",
       "      <td>0</td>\n",
       "      <td>28</td>\n",
       "      <td>865</td>\n",
       "      <td>hd</td>\n",
       "      <td>false</td>\n",
       "      <td>27</td>\n",
       "    </tr>\n",
       "  </tbody>\n",
       "</table>\n",
       "</div>"
      ],
      "text/plain": [
       "                 channel_id     video_id  \\\n",
       "0  UCUb5LzgHU7nXT9Dbpt-EQjw  w-tJy1Y71Zs   \n",
       "1  UCn8ujwUInbJkBhffxqAPBVQ  H6kKmMB-LdQ   \n",
       "2  UCn8ujwUInbJkBhffxqAPBVQ  OEPte4cG3Fk   \n",
       "3  UCn8ujwUInbJkBhffxqAPBVQ  _DAG-OH0wyc   \n",
       "4  UCn8ujwUInbJkBhffxqAPBVQ  Ff3tJ4pJEa4   \n",
       "\n",
       "                                         video_title  \\\n",
       "0  अणुभार की परिभाषा। अणुभार कैस ज्ञात करें। How ...   \n",
       "1  Introducing ClickUp Brain (this is huge for devs)   \n",
       "2     Easiest Way to Connect AI Chatbots to WhatsApp   \n",
       "3  All The Apps I Use On My New M3 MacBook (as a ...   \n",
       "4         PostgreSQL as VectorDB - Beginner Tutorial   \n",
       "\n",
       "                                         description  \\\n",
       "0  Hello friends \\nऐसे ही basic information, basi...   \n",
       "1  In this video, we dive into ClickUp's new \"Bra...   \n",
       "2  Let's build an AI chatbot with Botpress and co...   \n",
       "3  Let's go over all the apps that I installed on...   \n",
       "4  In this video, I explain why I recently switch...   \n",
       "\n",
       "                                                tags  \\\n",
       "0                                       #Simplelearn   \n",
       "1  data science, python, machine learning, vscode...   \n",
       "2  data science, python, machine learning, vscode...   \n",
       "3  data science, python, machine learning, vscode...   \n",
       "4  data science, python, machine learning, vscode...   \n",
       "\n",
       "                    published  view_count  like_count  favourite_count  \\\n",
       "0  2023-02-21 13:43:00.000000          29           4                0   \n",
       "1  2024-01-27 15:45:19.000000        1985          72                0   \n",
       "2  2024-01-17 14:00:15.000000        4500         162                0   \n",
       "3  2024-01-06 19:21:37.000000        2765          99                0   \n",
       "4  2023-12-21 15:57:34.000000        4417         191                0   \n",
       "\n",
       "   comment_count  duration definition caption  category_id  \n",
       "0              0       125         hd   false           27  \n",
       "1             18       533         hd   false           27  \n",
       "2             20      1602         hd   false           27  \n",
       "3             22      1749         hd   false           27  \n",
       "4             28       865         hd   false           27  "
      ]
     },
     "execution_count": 43,
     "metadata": {},
     "output_type": "execute_result"
    }
   ],
   "source": [
    "# Test database with simple query\n",
    "query = text(\"SELECT * FROM video\")\n",
    "test_df = pd.read_sql_query(query, conn)\n",
    "test_df.head()"
   ]
  },
  {
   "cell_type": "code",
   "execution_count": 44,
   "metadata": {},
   "outputs": [],
   "source": [
    "# Close the connection\n",
    "conn.close()\n",
    "engine.dispose()"
   ]
  },
  {
   "cell_type": "code",
   "execution_count": null,
   "metadata": {},
   "outputs": [],
   "source": []
  }
 ],
 "metadata": {
  "kernelspec": {
   "display_name": "Python 3",
   "language": "python",
   "name": "python3"
  },
  "language_info": {
   "codemirror_mode": {
    "name": "ipython",
    "version": 3
   },
   "file_extension": ".py",
   "mimetype": "text/x-python",
   "name": "python",
   "nbconvert_exporter": "python",
   "pygments_lexer": "ipython3",
   "version": "3.11.0"
  }
 },
 "nbformat": 4,
 "nbformat_minor": 2
}
