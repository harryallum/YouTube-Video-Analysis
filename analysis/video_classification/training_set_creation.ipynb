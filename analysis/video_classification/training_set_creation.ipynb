{
 "cells": [
  {
   "cell_type": "markdown",
   "metadata": {},
   "source": [
    "# Set Up Environment"
   ]
  },
  {
   "cell_type": "markdown",
   "metadata": {},
   "source": [
    "## Import Libraries"
   ]
  },
  {
   "cell_type": "code",
   "execution_count": 1,
   "metadata": {},
   "outputs": [],
   "source": [
    "from sqlalchemy import create_engine,text"
   ]
  },
  {
   "cell_type": "markdown",
   "metadata": {},
   "source": [
    "## Define Functions"
   ]
  },
  {
   "cell_type": "code",
   "execution_count": 2,
   "metadata": {},
   "outputs": [],
   "source": [
    "import pandas as pd\n",
    "\n",
    "def filter_videos_by_duration(df, min_duration=60, max_duration=1800):\n",
    "    \"\"\"\n",
    "    Filter videos DataFrame by duration within a specified range.\n",
    "    \n",
    "    Parameters:\n",
    "        df (DataFrame): The DataFrame containing video data.\n",
    "        min_duration (int): Minimum duration in seconds. Default is 60.\n",
    "        max_duration (int): Maximum duration in seconds. Default is 1800.\n",
    "        \n",
    "    Returns:\n",
    "        DataFrame: Filtered DataFrame containing videos with duration within the specified range.\n",
    "    \"\"\"\n",
    "    return df[(df['duration'] >= min_duration) & (df['duration'] <= max_duration)]"
   ]
  },
  {
   "cell_type": "markdown",
   "metadata": {},
   "source": [
    "# Import Data"
   ]
  },
  {
   "cell_type": "raw",
   "metadata": {},
   "source": [
    "db_string = 'sqlite:///../../db/youtube.db'\n",
    "# Create a engine\n",
    "engine = create_engine(db_string)\n",
    "# Create connection\n",
    "conn = engine.connect()"
   ]
  },
  {
   "cell_type": "raw",
   "metadata": {},
   "source": [
    "# Import videos data\n",
    "query = text('SELECT * FROM video')\n",
    "videos_df = pd.read_sql_query(query, conn)\n",
    "videos_df.head()"
   ]
  },
  {
   "cell_type": "markdown",
   "metadata": {},
   "source": [
    "# Data Pre-Processing\n",
    "## Remove shorts and longs"
   ]
  },
  {
   "cell_type": "raw",
   "metadata": {},
   "source": [
    "filtered_videos_df = filter_videos_by_duration(videos_df)"
   ]
  },
  {
   "cell_type": "raw",
   "metadata": {},
   "source": [
    "videos_for_labelling_df = filtered_videos_df.copy().reset_index()\n",
    "videos_for_labelling_df.to_csv(\"videos_for_labelling_df.csv\")"
   ]
  },
  {
   "cell_type": "code",
   "execution_count": 3,
   "metadata": {},
   "outputs": [],
   "source": [
    "videos_for_labelling_df = pd.read_csv(\"videos_for_labelling_df.csv\")"
   ]
  },
  {
   "attachments": {},
   "cell_type": "markdown",
   "metadata": {},
   "source": [
    "# Labelling training dataset with ChatGPT"
   ]
  },
  {
   "attachments": {},
   "cell_type": "markdown",
   "metadata": {},
   "source": [
    "## Write a prompt to get 100 labels at a time"
   ]
  },
  {
   "cell_type": "code",
   "execution_count": 4,
   "metadata": {},
   "outputs": [],
   "source": [
    "import pyperclip\n",
    "# Write prompt string\n",
    "prompt_str = \"\"\"You are a classifier, and I want you to classify each of the following data science youtube video titles based on the type of video. The options for video type are: Tutorial\n",
    "Project\n",
    "Interview\n",
    "Review\n",
    "News\n",
    "Tips\n",
    "Career\n",
    "Challenge\n",
    "\n",
    "The output should be in a table format with the columns being the index, the prompt and the classification for that prompt.\n",
    "\n",
    "The video titles are as below:\n",
    "\n",
    "\"\"\"\n",
    "\n",
    "# Get 100 video titles, remove \"|\" as this screws chatGP, concat into prompt\n",
    "prompt = (prompt_str + videos_for_labelling_df['video_title'].iloc[2900:3000].to_string(header=False)).replace('|', '')\n",
    "\n",
    "# Copy to clipboard\n",
    "pyperclip.copy(prompt)"
   ]
  },
  {
   "attachments": {},
   "cell_type": "markdown",
   "metadata": {},
   "source": [
    "## Manually paste ChatGPT output into CSV\n",
    "- This stage was done manually, the resulting CSV can be read in below"
   ]
  },
  {
   "cell_type": "code",
   "execution_count": 9,
   "metadata": {},
   "outputs": [],
   "source": [
    "import pandas as pd\n",
    "\n",
    "# Load the classified_titles.csv into a DataFrame\n",
    "classified_titles_df = pd.read_csv('classified_titles.csv')\n",
    "\n",
    "# Merge the DataFrames\n",
    "videos_with_labelling_df = videos_for_labelling_df.merge(classified_titles_df, how='left', left_index=True, right_index=True)\n",
    "\n",
    "# Selecting columns and renaming\n",
    "selected_columns = ['channel_id', 'video_id', 'video_title', 'description', 'tags', 'published', \n",
    "                    'view_count', 'like_count', 'favourite_count', 'comment_count', 'duration', \n",
    "                    'definition', 'caption', 'category_id', 'Prompt', 'Classification']\n",
    "\n",
    "videos_with_labelling_df = videos_with_labelling_df.loc[:, selected_columns]\n",
    "videos_with_labelling_df = videos_with_labelling_df.rename(columns={'Prompt': 'prompt', 'Classification': 'classification'})\n",
    "\n",
    "# Save the DataFrame to a CSV file\n",
    "videos_with_labelling_df.to_csv('videos_with_labelling_df.csv', index=False)"
   ]
  },
  {
   "cell_type": "code",
   "execution_count": 10,
   "metadata": {},
   "outputs": [
    {
     "data": {
      "text/html": [
       "<div>\n",
       "<style scoped>\n",
       "    .dataframe tbody tr th:only-of-type {\n",
       "        vertical-align: middle;\n",
       "    }\n",
       "\n",
       "    .dataframe tbody tr th {\n",
       "        vertical-align: top;\n",
       "    }\n",
       "\n",
       "    .dataframe thead th {\n",
       "        text-align: right;\n",
       "    }\n",
       "</style>\n",
       "<table border=\"1\" class=\"dataframe\">\n",
       "  <thead>\n",
       "    <tr style=\"text-align: right;\">\n",
       "      <th></th>\n",
       "      <th>channel_id</th>\n",
       "      <th>video_id</th>\n",
       "      <th>video_title</th>\n",
       "      <th>description</th>\n",
       "      <th>tags</th>\n",
       "      <th>published</th>\n",
       "      <th>view_count</th>\n",
       "      <th>like_count</th>\n",
       "      <th>favourite_count</th>\n",
       "      <th>comment_count</th>\n",
       "      <th>duration</th>\n",
       "      <th>definition</th>\n",
       "      <th>caption</th>\n",
       "      <th>category_id</th>\n",
       "      <th>prompt</th>\n",
       "      <th>classification</th>\n",
       "    </tr>\n",
       "  </thead>\n",
       "  <tbody>\n",
       "    <tr>\n",
       "      <th>0</th>\n",
       "      <td>UC8butISFwT-Wl7EV0hUK0BQ</td>\n",
       "      <td>9He4UBLyk8Y</td>\n",
       "      <td>Front End Developer Roadmap 2024</td>\n",
       "      <td>Learn what technologies you should learn first...</td>\n",
       "      <td>NaN</td>\n",
       "      <td>2023-10-19 14:18:42.000000</td>\n",
       "      <td>507722.0</td>\n",
       "      <td>17091.0</td>\n",
       "      <td>0</td>\n",
       "      <td>493.0</td>\n",
       "      <td>729</td>\n",
       "      <td>hd</td>\n",
       "      <td>False</td>\n",
       "      <td>27</td>\n",
       "      <td>Front End Developer Roadmap 2024</td>\n",
       "      <td>Career</td>\n",
       "    </tr>\n",
       "    <tr>\n",
       "      <th>1</th>\n",
       "      <td>UC8butISFwT-Wl7EV0hUK0BQ</td>\n",
       "      <td>ypNKKYUJE5o</td>\n",
       "      <td>JavaScript Security Vulnerabilities Tutorial  ...</td>\n",
       "      <td>Learn about 10 security vulnerabilities every ...</td>\n",
       "      <td>NaN</td>\n",
       "      <td>2023-05-16 14:37:07.000000</td>\n",
       "      <td>62016.0</td>\n",
       "      <td>2625.0</td>\n",
       "      <td>0</td>\n",
       "      <td>71.0</td>\n",
       "      <td>1505</td>\n",
       "      <td>hd</td>\n",
       "      <td>True</td>\n",
       "      <td>27</td>\n",
       "      <td>JavaScript Security Vulnerabilities Tutorial –...</td>\n",
       "      <td>Tutorial</td>\n",
       "    </tr>\n",
       "    <tr>\n",
       "      <th>2</th>\n",
       "      <td>UC8butISFwT-Wl7EV0hUK0BQ</td>\n",
       "      <td>D6Xj_W4leu8</td>\n",
       "      <td>Use ChatGPT to Build a RegEx Generator – OpenA...</td>\n",
       "      <td>Learn how to build a dashboard that generates ...</td>\n",
       "      <td>NaN</td>\n",
       "      <td>2023-03-30 13:32:31.000000</td>\n",
       "      <td>102762.0</td>\n",
       "      <td>2133.0</td>\n",
       "      <td>0</td>\n",
       "      <td>82.0</td>\n",
       "      <td>1792</td>\n",
       "      <td>hd</td>\n",
       "      <td>True</td>\n",
       "      <td>27</td>\n",
       "      <td>Use ChatGPT to Build a RegEx Generator – OpenA...</td>\n",
       "      <td>Tutorial</td>\n",
       "    </tr>\n",
       "    <tr>\n",
       "      <th>3</th>\n",
       "      <td>UC8butISFwT-Wl7EV0hUK0BQ</td>\n",
       "      <td>xZbU6bCZFYo</td>\n",
       "      <td>freeCodeCamp.org Curriculum Expansion: Math + ...</td>\n",
       "      <td>Support our campaign here: https://www.freecod...</td>\n",
       "      <td>NaN</td>\n",
       "      <td>2021-02-02 19:00:57.000000</td>\n",
       "      <td>87027.0</td>\n",
       "      <td>3478.0</td>\n",
       "      <td>0</td>\n",
       "      <td>197.0</td>\n",
       "      <td>1677</td>\n",
       "      <td>hd</td>\n",
       "      <td>True</td>\n",
       "      <td>27</td>\n",
       "      <td>freeCodeCamp.org Curriculum Expansion: Math + ...</td>\n",
       "      <td>News</td>\n",
       "    </tr>\n",
       "    <tr>\n",
       "      <th>4</th>\n",
       "      <td>UC8butISFwT-Wl7EV0hUK0BQ</td>\n",
       "      <td>flpmSXVTqBI</td>\n",
       "      <td>Java Testing - JUnit 5 Crash Course</td>\n",
       "      <td>JUnit 5 is one of the most popular frameworks ...</td>\n",
       "      <td>NaN</td>\n",
       "      <td>2021-01-12 15:59:45.000000</td>\n",
       "      <td>309188.0</td>\n",
       "      <td>5393.0</td>\n",
       "      <td>0</td>\n",
       "      <td>97.0</td>\n",
       "      <td>1565</td>\n",
       "      <td>hd</td>\n",
       "      <td>False</td>\n",
       "      <td>27</td>\n",
       "      <td>Java Testing - JUnit 5 Crash Course</td>\n",
       "      <td>Tutorial</td>\n",
       "    </tr>\n",
       "  </tbody>\n",
       "</table>\n",
       "</div>"
      ],
      "text/plain": [
       "                 channel_id     video_id  \\\n",
       "0  UC8butISFwT-Wl7EV0hUK0BQ  9He4UBLyk8Y   \n",
       "1  UC8butISFwT-Wl7EV0hUK0BQ  ypNKKYUJE5o   \n",
       "2  UC8butISFwT-Wl7EV0hUK0BQ  D6Xj_W4leu8   \n",
       "3  UC8butISFwT-Wl7EV0hUK0BQ  xZbU6bCZFYo   \n",
       "4  UC8butISFwT-Wl7EV0hUK0BQ  flpmSXVTqBI   \n",
       "\n",
       "                                         video_title  \\\n",
       "0                   Front End Developer Roadmap 2024   \n",
       "1  JavaScript Security Vulnerabilities Tutorial  ...   \n",
       "2  Use ChatGPT to Build a RegEx Generator – OpenA...   \n",
       "3  freeCodeCamp.org Curriculum Expansion: Math + ...   \n",
       "4                Java Testing - JUnit 5 Crash Course   \n",
       "\n",
       "                                         description tags  \\\n",
       "0  Learn what technologies you should learn first...  NaN   \n",
       "1  Learn about 10 security vulnerabilities every ...  NaN   \n",
       "2  Learn how to build a dashboard that generates ...  NaN   \n",
       "3  Support our campaign here: https://www.freecod...  NaN   \n",
       "4  JUnit 5 is one of the most popular frameworks ...  NaN   \n",
       "\n",
       "                    published  view_count  like_count  favourite_count  \\\n",
       "0  2023-10-19 14:18:42.000000    507722.0     17091.0                0   \n",
       "1  2023-05-16 14:37:07.000000     62016.0      2625.0                0   \n",
       "2  2023-03-30 13:32:31.000000    102762.0      2133.0                0   \n",
       "3  2021-02-02 19:00:57.000000     87027.0      3478.0                0   \n",
       "4  2021-01-12 15:59:45.000000    309188.0      5393.0                0   \n",
       "\n",
       "   comment_count  duration definition  caption  category_id  \\\n",
       "0          493.0       729         hd    False           27   \n",
       "1           71.0      1505         hd     True           27   \n",
       "2           82.0      1792         hd     True           27   \n",
       "3          197.0      1677         hd     True           27   \n",
       "4           97.0      1565         hd    False           27   \n",
       "\n",
       "                                              prompt classification  \n",
       "0                   Front End Developer Roadmap 2024         Career  \n",
       "1  JavaScript Security Vulnerabilities Tutorial –...       Tutorial  \n",
       "2  Use ChatGPT to Build a RegEx Generator – OpenA...       Tutorial  \n",
       "3  freeCodeCamp.org Curriculum Expansion: Math + ...           News  \n",
       "4                Java Testing - JUnit 5 Crash Course       Tutorial  "
      ]
     },
     "execution_count": 10,
     "metadata": {},
     "output_type": "execute_result"
    }
   ],
   "source": [
    "videos_with_labelling_df.head()"
   ]
  },
  {
   "attachments": {},
   "cell_type": "markdown",
   "metadata": {},
   "source": [
    "# Check labels using label studio\n",
    "https://towardsdatascience.com/bootstrapping-labels-with-gpt-4-8dc85ab5026d"
   ]
  },
  {
   "cell_type": "code",
   "execution_count": null,
   "metadata": {},
   "outputs": [],
   "source": []
  }
 ],
 "metadata": {
  "kernelspec": {
   "display_name": "Python 3",
   "language": "python",
   "name": "python3"
  },
  "language_info": {
   "codemirror_mode": {
    "name": "ipython",
    "version": 3
   },
   "file_extension": ".py",
   "mimetype": "text/x-python",
   "name": "python",
   "nbconvert_exporter": "python",
   "pygments_lexer": "ipython3",
   "version": "3.11.1"
  },
  "orig_nbformat": 4
 },
 "nbformat": 4,
 "nbformat_minor": 2
}
