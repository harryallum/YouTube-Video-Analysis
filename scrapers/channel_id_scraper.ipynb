{
 "cells": [
  {
   "cell_type": "code",
   "execution_count": 3,
   "metadata": {},
   "outputs": [],
   "source": [
    "from bs4 import BeautifulSoup\n",
    "import requests"
   ]
  },
  {
   "cell_type": "code",
   "execution_count": 56,
   "metadata": {},
   "outputs": [
    {
     "data": {
      "text/plain": [
       "['UC8wZnXYK_CGKlBcZp-GxYPA',\n",
       " 'UCn8ujwUInbJkBhffxqAPBVQ',\n",
       " 'UCUb5LzgHU7nXT9Dbpt-EQjw',\n",
       " 'UCelp2mfpa0fors7HePAodoA']"
      ]
     },
     "execution_count": 56,
     "metadata": {},
     "output_type": "execute_result"
    }
   ],
   "source": [
    "# Define channel handles as a list\n",
    "\n",
    "channel_handles = [\n",
    "    \"NeuralNine\",\n",
    "    \"daveebbelaar\",\n",
    "    \"SimplelearnOfficial\",\n",
    "    \"exaltitude\",\n",
    "]\n",
    "\n",
    "channel_ids = []\n",
    "\n",
    "# Loop through each channel\n",
    "for channel in channel_handles:\n",
    "    # Get html\n",
    "    response = requests.get(url=f\"https://www.youtube.com/@{channel}\")\n",
    "    content = response.text\n",
    "\n",
    "    soup = BeautifulSoup(content,\"html.parser\")\n",
    "\n",
    "    # Try to find URL that includes the ID\n",
    "    try:\n",
    "        links = soup.find_all('link')\n",
    "        url = links[10].get('href')\n",
    "    except IndexError:\n",
    "        # Identify any handles that failed\n",
    "        print(f\"Couldn't find channel link - check channel handle is valid for: {channel}\")\n",
    "    else:\n",
    "        # Get the ID from from href\n",
    "        channel_id = url.split(\"/\")[-1]\n",
    "        channel_ids.append(channel_id)"
   ]
  },
  {
   "cell_type": "code",
   "execution_count": 57,
   "metadata": {},
   "outputs": [],
   "source": [
    "# File path for CSV export\n",
    "csv_file_path = 'channels/channel_ids.csv'\n",
    "\n",
    "# Write channel IDs to CSV file\n",
    "with open(csv_file_path, 'w') as csvfile:\n",
    "    for channel_id in channel_ids:\n",
    "        csvfile.write(channel_id + '\\n')\n"
   ]
  },
  {
   "cell_type": "code",
   "execution_count": null,
   "metadata": {},
   "outputs": [],
   "source": []
  }
 ],
 "metadata": {
  "kernelspec": {
   "display_name": "Python 3",
   "language": "python",
   "name": "python3"
  },
  "language_info": {
   "codemirror_mode": {
    "name": "ipython",
    "version": 3
   },
   "file_extension": ".py",
   "mimetype": "text/x-python",
   "name": "python",
   "nbconvert_exporter": "python",
   "pygments_lexer": "ipython3",
   "version": "3.11.0"
  }
 },
 "nbformat": 4,
 "nbformat_minor": 2
}
