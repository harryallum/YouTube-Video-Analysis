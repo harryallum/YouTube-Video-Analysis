{
 "cells": [
  {
   "cell_type": "code",
   "execution_count": 1,
   "metadata": {},
   "outputs": [],
   "source": [
    "from sqlalchemy import create_engine, MetaData, Table, Column, Integer, String, DateTime, text, ForeignKey"
   ]
  },
  {
   "cell_type": "markdown",
   "metadata": {},
   "source": [
    "Define the engine"
   ]
  },
  {
   "cell_type": "code",
   "execution_count": 2,
   "metadata": {},
   "outputs": [],
   "source": [
    "db_string = 'sqlite:///database/youtube.db'\n",
    "\n",
    "# Create a engine\n",
    "engine = create_engine(db_string)"
   ]
  },
  {
   "cell_type": "markdown",
   "metadata": {},
   "source": [
    "Define schema"
   ]
  },
  {
   "cell_type": "code",
   "execution_count": 7,
   "metadata": {},
   "outputs": [],
   "source": [
    "# Create a MetaData object\n",
    "metadata_obj = MetaData()\n",
    "\n",
    "# Define the 'channel' table\n",
    "channel_table = Table(\n",
    "    'channel',\n",
    "    metadata_obj,\n",
    "    Column('channel_id', String, primary_key=True),\n",
    "    Column('channel_name', String),\n",
    "    Column('description', String),\n",
    "    Column('subscriber_count', Integer),\n",
    "    Column('view_count', Integer),\n",
    "    Column('video_count', Integer),\n",
    "    Column('playlist_id', String),\n",
    "    Column('start_date', DateTime),\n",
    "    Column('country', String),\n",
    ")\n",
    "\n",
    "# Define the 'video' table\n",
    "video_table = Table(\n",
    "    'video',\n",
    "    metadata_obj,\n",
    "    Column('channel_id', ForeignKey(\"channel.channel_id\")),\n",
    "    Column('video_id', String, primary_key=True),\n",
    "    Column('video_title', String),\n",
    "    Column('description', String),\n",
    "    Column('tags', String),\n",
    "    Column('published', DateTime),\n",
    "    Column('view_count', Integer),\n",
    "    Column('like_count', Integer),\n",
    "    Column('favourite_count', Integer),\n",
    "    Column('comment_count', Integer),\n",
    "    Column('duration', Integer),\n",
    "    Column('definition', String),\n",
    "    Column('caption', String),\n",
    "    Column('category_id', Integer),\n",
    ")\n",
    "\n",
    "# Define the 'comment' table\n",
    "video_table = Table(\n",
    "    'comment',\n",
    "    metadata_obj,\n",
    "    Column('video_id', ForeignKey(\"video.video_id\")),\n",
    "    Column('comment_id', String, primary_key=True),\n",
    "    Column('body', String),\n",
    "    Column('comment_likes', Integer),\n",
    "    Column('comment_replies', Integer),\n",
    ")"
   ]
  },
  {
   "cell_type": "markdown",
   "metadata": {},
   "source": [
    "Create connection"
   ]
  },
  {
   "cell_type": "code",
   "execution_count": 8,
   "metadata": {},
   "outputs": [],
   "source": [
    "# Create connection\n",
    "conn = engine.connect()"
   ]
  },
  {
   "cell_type": "markdown",
   "metadata": {},
   "source": [
    "Create tables with schema"
   ]
  },
  {
   "cell_type": "code",
   "execution_count": 9,
   "metadata": {},
   "outputs": [],
   "source": [
    "# Create all tables in the database\n",
    "metadata_obj.create_all(engine)"
   ]
  },
  {
   "cell_type": "markdown",
   "metadata": {},
   "source": [
    "Close connection"
   ]
  },
  {
   "cell_type": "code",
   "execution_count": 6,
   "metadata": {},
   "outputs": [],
   "source": [
    "# Close the connection\n",
    "conn.close()\n",
    "engine.dispose()"
   ]
  }
 ],
 "metadata": {
  "kernelspec": {
   "display_name": "Python 3",
   "language": "python",
   "name": "python3"
  },
  "language_info": {
   "codemirror_mode": {
    "name": "ipython",
    "version": 3
   },
   "file_extension": ".py",
   "mimetype": "text/x-python",
   "name": "python",
   "nbconvert_exporter": "python",
   "pygments_lexer": "ipython3",
   "version": "3.11.0"
  }
 },
 "nbformat": 4,
 "nbformat_minor": 2
}
